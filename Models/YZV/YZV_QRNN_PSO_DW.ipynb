{
  "cells": [
    {
      "cell_type": "code",
      "execution_count": 1,
      "metadata": {
        "colab": {
          "base_uri": "https://localhost:8080/"
        },
        "id": "1izNTGsv1Ktz",
        "outputId": "dddfa19a-a87a-499c-a57c-82ca46c9745e"
      },
      "outputs": [
        {
          "output_type": "stream",
          "name": "stdout",
          "text": [
            "Collecting pyswarm\n",
            "  Downloading pyswarm-0.6.tar.gz (4.3 kB)\n",
            "  Preparing metadata (setup.py) ... \u001b[?25l\u001b[?25hdone\n",
            "Requirement already satisfied: numpy in /usr/local/lib/python3.10/dist-packages (from pyswarm) (1.26.4)\n",
            "Building wheels for collected packages: pyswarm\n",
            "  Building wheel for pyswarm (setup.py) ... \u001b[?25l\u001b[?25hdone\n",
            "  Created wheel for pyswarm: filename=pyswarm-0.6-py3-none-any.whl size=4464 sha256=4b8bcd2803a64132eca8508d7c3bd9e7fc05f42f22b070e5b78db7a26f0772ac\n",
            "  Stored in directory: /root/.cache/pip/wheels/71/67/40/62fa158f497f942277cbab8199b05cb61c571ab324e67ad0d6\n",
            "Successfully built pyswarm\n",
            "Installing collected packages: pyswarm\n",
            "Successfully installed pyswarm-0.6\n"
          ]
        }
      ],
      "source": [
        "!pip install pyswarm"
      ]
    },
    {
      "cell_type": "code",
      "execution_count": 2,
      "metadata": {
        "id": "gvwAKkdZml78"
      },
      "outputs": [],
      "source": [
        "from tensorflow.keras.layers import Input, Dense, GaussianNoise, Dropout\n",
        "from tensorflow.keras.callbacks import EarlyStopping\n",
        "from sklearn.metrics import mean_squared_error, mean_absolute_error\n",
        "from sklearn.model_selection import train_test_split\n",
        "from sklearn.metrics import mean_squared_error\n",
        "from tensorflow.keras.layers import Flatten\n",
        "from tensorflow.keras import regularizers\n",
        "from tensorflow.keras.models import Model\n",
        "from google.colab import drive\n",
        "from datetime import datetime\n",
        "from tensorflow import keras\n",
        "from pyswarm import pso\n",
        "import pandas as pd\n",
        "import numpy as np\n",
        "import time"
      ]
    },
    {
      "cell_type": "code",
      "execution_count": 3,
      "metadata": {
        "colab": {
          "base_uri": "https://localhost:8080/"
        },
        "id": "c2gfRDI33D7-",
        "outputId": "79da002c-a30c-4207-bd07-5e5769547705"
      },
      "outputs": [
        {
          "output_type": "stream",
          "name": "stdout",
          "text": [
            "Mounted at /content/drive\n"
          ]
        }
      ],
      "source": [
        "drive.mount('/content/drive')\n",
        "path = '/content/drive/MyDrive/Volatility/New_data_2000_2024/Not_normal_wd/'"
      ]
    },
    {
      "cell_type": "code",
      "execution_count": 4,
      "metadata": {
        "id": "GS7JVzkb3F-V"
      },
      "outputs": [],
      "source": [
        "def set_index(df):\n",
        "  df.index = pd.to_datetime(df['Date'])\n",
        "  df.drop(columns=['Date'], inplace=True)"
      ]
    },
    {
      "cell_type": "code",
      "execution_count": 5,
      "metadata": {
        "colab": {
          "base_uri": "https://localhost:8080/",
          "height": 683
        },
        "id": "Y-xbS5Eg3GcY",
        "outputId": "31ea4600-5156-4b0d-fe1a-786938cf8290"
      },
      "outputs": [
        {
          "output_type": "execute_result",
          "data": {
            "text/plain": [
              "              gdp_growth        volume  ('GARCH', 'normal', 0)  \\\n",
              "Date                                                             \n",
              "2000-02-02  28984.929215  2.945453e+09                0.039601   \n",
              "2000-02-03  28984.929215  2.935907e+09                0.037979   \n",
              "2000-02-04  28984.929215  3.274647e+09                0.036791   \n",
              "2000-02-07  28984.929215  3.413593e+09                0.046593   \n",
              "2000-02-08  28984.929215  2.868803e+09                0.049131   \n",
              "...                  ...           ...                     ...   \n",
              "2024-08-26      0.000000  1.609587e+08                0.000120   \n",
              "2024-08-27      0.000000  9.767973e+07               -0.003889   \n",
              "2024-08-28      0.000000  2.498703e+08                0.000280   \n",
              "2024-08-29      0.000000 -1.799304e+08               -0.000182   \n",
              "2024-08-30      0.000000 -7.921081e+08               -0.000978   \n",
              "\n",
              "            ('GARCH', 'normal', 1)  ('GARCH', 'gaussian', 0)  \\\n",
              "Date                                                           \n",
              "2000-02-02                0.038301                  0.039601   \n",
              "2000-02-03                0.038355                  0.037979   \n",
              "2000-02-04                0.037755                  0.036791   \n",
              "2000-02-07                0.055072                  0.046593   \n",
              "2000-02-08                0.041984                  0.049131   \n",
              "...                            ...                       ...   \n",
              "2024-08-26               -0.000665                  0.000120   \n",
              "2024-08-27               -0.004798                 -0.003889   \n",
              "2024-08-28               -0.001148                  0.000280   \n",
              "2024-08-29               -0.000395                 -0.000182   \n",
              "2024-08-30               -0.000269                 -0.000978   \n",
              "\n",
              "            ('GARCH', 'gaussian', 1)  ('GARCH', 'ged', 0)  \\\n",
              "Date                                                        \n",
              "2000-02-02                  0.038301             0.040044   \n",
              "2000-02-03                  0.038355             0.041000   \n",
              "2000-02-04                  0.037755             0.038214   \n",
              "2000-02-07                  0.055072             0.047968   \n",
              "2000-02-08                  0.041984             0.049560   \n",
              "...                              ...                  ...   \n",
              "2024-08-26                 -0.000665             0.000456   \n",
              "2024-08-27                 -0.004798            -0.003539   \n",
              "2024-08-28                 -0.001148             0.000449   \n",
              "2024-08-29                 -0.000395            -0.000122   \n",
              "2024-08-30                 -0.000269            -0.000987   \n",
              "\n",
              "            ('GARCH', 'ged', 1)  ('FIGARCH', 'normal', 0)  \\\n",
              "Date                                                        \n",
              "2000-02-02             0.039199                  0.038388   \n",
              "2000-02-03             0.040608                  0.038633   \n",
              "2000-02-04             0.040159                  0.036990   \n",
              "2000-02-07             0.057512                  0.046474   \n",
              "2000-02-08             0.042487                  0.046711   \n",
              "...                         ...                       ...   \n",
              "2024-08-26            -0.000424                  0.000121   \n",
              "2024-08-27            -0.002953                 -0.004368   \n",
              "2024-08-28            -0.000383                  0.000483   \n",
              "2024-08-29             0.000615                 -0.000352   \n",
              "2024-08-30             0.000618                 -0.000533   \n",
              "\n",
              "            ('FIGARCH', 'normal', 1)  ...   usd_eur     usd_jpy   usd_gbp  \\\n",
              "Date                                  ...                                   \n",
              "2000-02-02                  0.038388  ...  2.781970  307.252039  4.529620   \n",
              "2000-02-03                  0.038633  ...  2.799436  311.491144  4.529266   \n",
              "2000-02-04                  0.036990  ...  2.728548  306.262089  4.474254   \n",
              "2000-02-07                  0.046474  ...  2.733357  299.491542  4.460147   \n",
              "2000-02-08                  0.046711  ...  2.730104  301.761354  4.470789   \n",
              "...                              ...  ...       ...         ...       ...   \n",
              "2024-08-26                  0.000121  ... -0.002546    0.509117 -0.003041   \n",
              "2024-08-27                 -0.004368  ...  0.002051   -0.551543 -0.001202   \n",
              "2024-08-28                  0.000483  ...  0.000849    0.247487  0.000849   \n",
              "2024-08-29                 -0.000352  ...  0.002333   -0.148492  0.002404   \n",
              "2024-08-30                 -0.000533  ...  0.001838   -0.685894  0.003818   \n",
              "\n",
              "              usd_cny   usd_cad    usd_mxn     gt_data  log_returns  \\\n",
              "Date                                                                  \n",
              "2000-02-02  23.415205  4.090860  26.750733  209.303607    -0.005604   \n",
              "2000-02-03  23.412659  4.119569  26.561052  209.303607    -0.008693   \n",
              "2000-02-04  23.415452  4.106629  26.433950  209.303607     0.000572   \n",
              "2000-02-07  23.414391  4.140641  26.339020  209.303607     0.027307   \n",
              "2000-02-08  23.415982  4.142338  26.135551  209.303607     0.010478   \n",
              "...               ...       ...        ...         ...          ...   \n",
              "2024-08-26   0.005162  0.001980  -0.105925    0.404061     0.008246   \n",
              "2024-08-27  -0.006788 -0.001556  -0.173948    0.404061     0.009336   \n",
              "2024-08-28   0.002263  0.002051  -0.219910    0.707107     0.010307   \n",
              "2024-08-29  -0.000071 -0.000566   0.084711   -0.101015     0.005365   \n",
              "2024-08-30   0.005091 -0.002333   0.092207   -0.101015    -0.007129   \n",
              "\n",
              "            ('APARCH', 'studentst', 1)       YZV  \n",
              "Date                                              \n",
              "2000-02-02                    0.037128  0.282636  \n",
              "2000-02-03                    0.038336  0.285768  \n",
              "2000-02-04                    0.049778  0.279604  \n",
              "2000-02-07                    0.065732  0.291652  \n",
              "2000-02-08                    0.043373  0.293459  \n",
              "...                                ...       ...  \n",
              "2024-08-26                   -0.004076  0.000035  \n",
              "2024-08-27                   -0.005604 -0.000063  \n",
              "2024-08-28                   -0.001642  0.000235  \n",
              "2024-08-29                    0.000277  0.000388  \n",
              "2024-08-30                    0.000044  0.001846  \n",
              "\n",
              "[6184 rows x 30 columns]"
            ],
            "text/html": [
              "\n",
              "  <div id=\"df-2a62efeb-a797-44df-b2a7-8ebedf6dacdf\" class=\"colab-df-container\">\n",
              "    <div>\n",
              "<style scoped>\n",
              "    .dataframe tbody tr th:only-of-type {\n",
              "        vertical-align: middle;\n",
              "    }\n",
              "\n",
              "    .dataframe tbody tr th {\n",
              "        vertical-align: top;\n",
              "    }\n",
              "\n",
              "    .dataframe thead th {\n",
              "        text-align: right;\n",
              "    }\n",
              "</style>\n",
              "<table border=\"1\" class=\"dataframe\">\n",
              "  <thead>\n",
              "    <tr style=\"text-align: right;\">\n",
              "      <th></th>\n",
              "      <th>gdp_growth</th>\n",
              "      <th>volume</th>\n",
              "      <th>('GARCH', 'normal', 0)</th>\n",
              "      <th>('GARCH', 'normal', 1)</th>\n",
              "      <th>('GARCH', 'gaussian', 0)</th>\n",
              "      <th>('GARCH', 'gaussian', 1)</th>\n",
              "      <th>('GARCH', 'ged', 0)</th>\n",
              "      <th>('GARCH', 'ged', 1)</th>\n",
              "      <th>('FIGARCH', 'normal', 0)</th>\n",
              "      <th>('FIGARCH', 'normal', 1)</th>\n",
              "      <th>...</th>\n",
              "      <th>usd_eur</th>\n",
              "      <th>usd_jpy</th>\n",
              "      <th>usd_gbp</th>\n",
              "      <th>usd_cny</th>\n",
              "      <th>usd_cad</th>\n",
              "      <th>usd_mxn</th>\n",
              "      <th>gt_data</th>\n",
              "      <th>log_returns</th>\n",
              "      <th>('APARCH', 'studentst', 1)</th>\n",
              "      <th>YZV</th>\n",
              "    </tr>\n",
              "    <tr>\n",
              "      <th>Date</th>\n",
              "      <th></th>\n",
              "      <th></th>\n",
              "      <th></th>\n",
              "      <th></th>\n",
              "      <th></th>\n",
              "      <th></th>\n",
              "      <th></th>\n",
              "      <th></th>\n",
              "      <th></th>\n",
              "      <th></th>\n",
              "      <th></th>\n",
              "      <th></th>\n",
              "      <th></th>\n",
              "      <th></th>\n",
              "      <th></th>\n",
              "      <th></th>\n",
              "      <th></th>\n",
              "      <th></th>\n",
              "      <th></th>\n",
              "      <th></th>\n",
              "      <th></th>\n",
              "    </tr>\n",
              "  </thead>\n",
              "  <tbody>\n",
              "    <tr>\n",
              "      <th>2000-02-02</th>\n",
              "      <td>28984.929215</td>\n",
              "      <td>2.945453e+09</td>\n",
              "      <td>0.039601</td>\n",
              "      <td>0.038301</td>\n",
              "      <td>0.039601</td>\n",
              "      <td>0.038301</td>\n",
              "      <td>0.040044</td>\n",
              "      <td>0.039199</td>\n",
              "      <td>0.038388</td>\n",
              "      <td>0.038388</td>\n",
              "      <td>...</td>\n",
              "      <td>2.781970</td>\n",
              "      <td>307.252039</td>\n",
              "      <td>4.529620</td>\n",
              "      <td>23.415205</td>\n",
              "      <td>4.090860</td>\n",
              "      <td>26.750733</td>\n",
              "      <td>209.303607</td>\n",
              "      <td>-0.005604</td>\n",
              "      <td>0.037128</td>\n",
              "      <td>0.282636</td>\n",
              "    </tr>\n",
              "    <tr>\n",
              "      <th>2000-02-03</th>\n",
              "      <td>28984.929215</td>\n",
              "      <td>2.935907e+09</td>\n",
              "      <td>0.037979</td>\n",
              "      <td>0.038355</td>\n",
              "      <td>0.037979</td>\n",
              "      <td>0.038355</td>\n",
              "      <td>0.041000</td>\n",
              "      <td>0.040608</td>\n",
              "      <td>0.038633</td>\n",
              "      <td>0.038633</td>\n",
              "      <td>...</td>\n",
              "      <td>2.799436</td>\n",
              "      <td>311.491144</td>\n",
              "      <td>4.529266</td>\n",
              "      <td>23.412659</td>\n",
              "      <td>4.119569</td>\n",
              "      <td>26.561052</td>\n",
              "      <td>209.303607</td>\n",
              "      <td>-0.008693</td>\n",
              "      <td>0.038336</td>\n",
              "      <td>0.285768</td>\n",
              "    </tr>\n",
              "    <tr>\n",
              "      <th>2000-02-04</th>\n",
              "      <td>28984.929215</td>\n",
              "      <td>3.274647e+09</td>\n",
              "      <td>0.036791</td>\n",
              "      <td>0.037755</td>\n",
              "      <td>0.036791</td>\n",
              "      <td>0.037755</td>\n",
              "      <td>0.038214</td>\n",
              "      <td>0.040159</td>\n",
              "      <td>0.036990</td>\n",
              "      <td>0.036990</td>\n",
              "      <td>...</td>\n",
              "      <td>2.728548</td>\n",
              "      <td>306.262089</td>\n",
              "      <td>4.474254</td>\n",
              "      <td>23.415452</td>\n",
              "      <td>4.106629</td>\n",
              "      <td>26.433950</td>\n",
              "      <td>209.303607</td>\n",
              "      <td>0.000572</td>\n",
              "      <td>0.049778</td>\n",
              "      <td>0.279604</td>\n",
              "    </tr>\n",
              "    <tr>\n",
              "      <th>2000-02-07</th>\n",
              "      <td>28984.929215</td>\n",
              "      <td>3.413593e+09</td>\n",
              "      <td>0.046593</td>\n",
              "      <td>0.055072</td>\n",
              "      <td>0.046593</td>\n",
              "      <td>0.055072</td>\n",
              "      <td>0.047968</td>\n",
              "      <td>0.057512</td>\n",
              "      <td>0.046474</td>\n",
              "      <td>0.046474</td>\n",
              "      <td>...</td>\n",
              "      <td>2.733357</td>\n",
              "      <td>299.491542</td>\n",
              "      <td>4.460147</td>\n",
              "      <td>23.414391</td>\n",
              "      <td>4.140641</td>\n",
              "      <td>26.339020</td>\n",
              "      <td>209.303607</td>\n",
              "      <td>0.027307</td>\n",
              "      <td>0.065732</td>\n",
              "      <td>0.291652</td>\n",
              "    </tr>\n",
              "    <tr>\n",
              "      <th>2000-02-08</th>\n",
              "      <td>28984.929215</td>\n",
              "      <td>2.868803e+09</td>\n",
              "      <td>0.049131</td>\n",
              "      <td>0.041984</td>\n",
              "      <td>0.049131</td>\n",
              "      <td>0.041984</td>\n",
              "      <td>0.049560</td>\n",
              "      <td>0.042487</td>\n",
              "      <td>0.046711</td>\n",
              "      <td>0.046711</td>\n",
              "      <td>...</td>\n",
              "      <td>2.730104</td>\n",
              "      <td>301.761354</td>\n",
              "      <td>4.470789</td>\n",
              "      <td>23.415982</td>\n",
              "      <td>4.142338</td>\n",
              "      <td>26.135551</td>\n",
              "      <td>209.303607</td>\n",
              "      <td>0.010478</td>\n",
              "      <td>0.043373</td>\n",
              "      <td>0.293459</td>\n",
              "    </tr>\n",
              "    <tr>\n",
              "      <th>...</th>\n",
              "      <td>...</td>\n",
              "      <td>...</td>\n",
              "      <td>...</td>\n",
              "      <td>...</td>\n",
              "      <td>...</td>\n",
              "      <td>...</td>\n",
              "      <td>...</td>\n",
              "      <td>...</td>\n",
              "      <td>...</td>\n",
              "      <td>...</td>\n",
              "      <td>...</td>\n",
              "      <td>...</td>\n",
              "      <td>...</td>\n",
              "      <td>...</td>\n",
              "      <td>...</td>\n",
              "      <td>...</td>\n",
              "      <td>...</td>\n",
              "      <td>...</td>\n",
              "      <td>...</td>\n",
              "      <td>...</td>\n",
              "      <td>...</td>\n",
              "    </tr>\n",
              "    <tr>\n",
              "      <th>2024-08-26</th>\n",
              "      <td>0.000000</td>\n",
              "      <td>1.609587e+08</td>\n",
              "      <td>0.000120</td>\n",
              "      <td>-0.000665</td>\n",
              "      <td>0.000120</td>\n",
              "      <td>-0.000665</td>\n",
              "      <td>0.000456</td>\n",
              "      <td>-0.000424</td>\n",
              "      <td>0.000121</td>\n",
              "      <td>0.000121</td>\n",
              "      <td>...</td>\n",
              "      <td>-0.002546</td>\n",
              "      <td>0.509117</td>\n",
              "      <td>-0.003041</td>\n",
              "      <td>0.005162</td>\n",
              "      <td>0.001980</td>\n",
              "      <td>-0.105925</td>\n",
              "      <td>0.404061</td>\n",
              "      <td>0.008246</td>\n",
              "      <td>-0.004076</td>\n",
              "      <td>0.000035</td>\n",
              "    </tr>\n",
              "    <tr>\n",
              "      <th>2024-08-27</th>\n",
              "      <td>0.000000</td>\n",
              "      <td>9.767973e+07</td>\n",
              "      <td>-0.003889</td>\n",
              "      <td>-0.004798</td>\n",
              "      <td>-0.003889</td>\n",
              "      <td>-0.004798</td>\n",
              "      <td>-0.003539</td>\n",
              "      <td>-0.002953</td>\n",
              "      <td>-0.004368</td>\n",
              "      <td>-0.004368</td>\n",
              "      <td>...</td>\n",
              "      <td>0.002051</td>\n",
              "      <td>-0.551543</td>\n",
              "      <td>-0.001202</td>\n",
              "      <td>-0.006788</td>\n",
              "      <td>-0.001556</td>\n",
              "      <td>-0.173948</td>\n",
              "      <td>0.404061</td>\n",
              "      <td>0.009336</td>\n",
              "      <td>-0.005604</td>\n",
              "      <td>-0.000063</td>\n",
              "    </tr>\n",
              "    <tr>\n",
              "      <th>2024-08-28</th>\n",
              "      <td>0.000000</td>\n",
              "      <td>2.498703e+08</td>\n",
              "      <td>0.000280</td>\n",
              "      <td>-0.001148</td>\n",
              "      <td>0.000280</td>\n",
              "      <td>-0.001148</td>\n",
              "      <td>0.000449</td>\n",
              "      <td>-0.000383</td>\n",
              "      <td>0.000483</td>\n",
              "      <td>0.000483</td>\n",
              "      <td>...</td>\n",
              "      <td>0.000849</td>\n",
              "      <td>0.247487</td>\n",
              "      <td>0.000849</td>\n",
              "      <td>0.002263</td>\n",
              "      <td>0.002051</td>\n",
              "      <td>-0.219910</td>\n",
              "      <td>0.707107</td>\n",
              "      <td>0.010307</td>\n",
              "      <td>-0.001642</td>\n",
              "      <td>0.000235</td>\n",
              "    </tr>\n",
              "    <tr>\n",
              "      <th>2024-08-29</th>\n",
              "      <td>0.000000</td>\n",
              "      <td>-1.799304e+08</td>\n",
              "      <td>-0.000182</td>\n",
              "      <td>-0.000395</td>\n",
              "      <td>-0.000182</td>\n",
              "      <td>-0.000395</td>\n",
              "      <td>-0.000122</td>\n",
              "      <td>0.000615</td>\n",
              "      <td>-0.000352</td>\n",
              "      <td>-0.000352</td>\n",
              "      <td>...</td>\n",
              "      <td>0.002333</td>\n",
              "      <td>-0.148492</td>\n",
              "      <td>0.002404</td>\n",
              "      <td>-0.000071</td>\n",
              "      <td>-0.000566</td>\n",
              "      <td>0.084711</td>\n",
              "      <td>-0.101015</td>\n",
              "      <td>0.005365</td>\n",
              "      <td>0.000277</td>\n",
              "      <td>0.000388</td>\n",
              "    </tr>\n",
              "    <tr>\n",
              "      <th>2024-08-30</th>\n",
              "      <td>0.000000</td>\n",
              "      <td>-7.921081e+08</td>\n",
              "      <td>-0.000978</td>\n",
              "      <td>-0.000269</td>\n",
              "      <td>-0.000978</td>\n",
              "      <td>-0.000269</td>\n",
              "      <td>-0.000987</td>\n",
              "      <td>0.000618</td>\n",
              "      <td>-0.000533</td>\n",
              "      <td>-0.000533</td>\n",
              "      <td>...</td>\n",
              "      <td>0.001838</td>\n",
              "      <td>-0.685894</td>\n",
              "      <td>0.003818</td>\n",
              "      <td>0.005091</td>\n",
              "      <td>-0.002333</td>\n",
              "      <td>0.092207</td>\n",
              "      <td>-0.101015</td>\n",
              "      <td>-0.007129</td>\n",
              "      <td>0.000044</td>\n",
              "      <td>0.001846</td>\n",
              "    </tr>\n",
              "  </tbody>\n",
              "</table>\n",
              "<p>6184 rows × 30 columns</p>\n",
              "</div>\n",
              "    <div class=\"colab-df-buttons\">\n",
              "\n",
              "  <div class=\"colab-df-container\">\n",
              "    <button class=\"colab-df-convert\" onclick=\"convertToInteractive('df-2a62efeb-a797-44df-b2a7-8ebedf6dacdf')\"\n",
              "            title=\"Convert this dataframe to an interactive table.\"\n",
              "            style=\"display:none;\">\n",
              "\n",
              "  <svg xmlns=\"http://www.w3.org/2000/svg\" height=\"24px\" viewBox=\"0 -960 960 960\">\n",
              "    <path d=\"M120-120v-720h720v720H120Zm60-500h600v-160H180v160Zm220 220h160v-160H400v160Zm0 220h160v-160H400v160ZM180-400h160v-160H180v160Zm440 0h160v-160H620v160ZM180-180h160v-160H180v160Zm440 0h160v-160H620v160Z\"/>\n",
              "  </svg>\n",
              "    </button>\n",
              "\n",
              "  <style>\n",
              "    .colab-df-container {\n",
              "      display:flex;\n",
              "      gap: 12px;\n",
              "    }\n",
              "\n",
              "    .colab-df-convert {\n",
              "      background-color: #E8F0FE;\n",
              "      border: none;\n",
              "      border-radius: 50%;\n",
              "      cursor: pointer;\n",
              "      display: none;\n",
              "      fill: #1967D2;\n",
              "      height: 32px;\n",
              "      padding: 0 0 0 0;\n",
              "      width: 32px;\n",
              "    }\n",
              "\n",
              "    .colab-df-convert:hover {\n",
              "      background-color: #E2EBFA;\n",
              "      box-shadow: 0px 1px 2px rgba(60, 64, 67, 0.3), 0px 1px 3px 1px rgba(60, 64, 67, 0.15);\n",
              "      fill: #174EA6;\n",
              "    }\n",
              "\n",
              "    .colab-df-buttons div {\n",
              "      margin-bottom: 4px;\n",
              "    }\n",
              "\n",
              "    [theme=dark] .colab-df-convert {\n",
              "      background-color: #3B4455;\n",
              "      fill: #D2E3FC;\n",
              "    }\n",
              "\n",
              "    [theme=dark] .colab-df-convert:hover {\n",
              "      background-color: #434B5C;\n",
              "      box-shadow: 0px 1px 3px 1px rgba(0, 0, 0, 0.15);\n",
              "      filter: drop-shadow(0px 1px 2px rgba(0, 0, 0, 0.3));\n",
              "      fill: #FFFFFF;\n",
              "    }\n",
              "  </style>\n",
              "\n",
              "    <script>\n",
              "      const buttonEl =\n",
              "        document.querySelector('#df-2a62efeb-a797-44df-b2a7-8ebedf6dacdf button.colab-df-convert');\n",
              "      buttonEl.style.display =\n",
              "        google.colab.kernel.accessAllowed ? 'block' : 'none';\n",
              "\n",
              "      async function convertToInteractive(key) {\n",
              "        const element = document.querySelector('#df-2a62efeb-a797-44df-b2a7-8ebedf6dacdf');\n",
              "        const dataTable =\n",
              "          await google.colab.kernel.invokeFunction('convertToInteractive',\n",
              "                                                    [key], {});\n",
              "        if (!dataTable) return;\n",
              "\n",
              "        const docLinkHtml = 'Like what you see? Visit the ' +\n",
              "          '<a target=\"_blank\" href=https://colab.research.google.com/notebooks/data_table.ipynb>data table notebook</a>'\n",
              "          + ' to learn more about interactive tables.';\n",
              "        element.innerHTML = '';\n",
              "        dataTable['output_type'] = 'display_data';\n",
              "        await google.colab.output.renderOutput(dataTable, element);\n",
              "        const docLink = document.createElement('div');\n",
              "        docLink.innerHTML = docLinkHtml;\n",
              "        element.appendChild(docLink);\n",
              "      }\n",
              "    </script>\n",
              "  </div>\n",
              "\n",
              "\n",
              "<div id=\"df-8d781842-de14-4cdc-a617-96196759ebf4\">\n",
              "  <button class=\"colab-df-quickchart\" onclick=\"quickchart('df-8d781842-de14-4cdc-a617-96196759ebf4')\"\n",
              "            title=\"Suggest charts\"\n",
              "            style=\"display:none;\">\n",
              "\n",
              "<svg xmlns=\"http://www.w3.org/2000/svg\" height=\"24px\"viewBox=\"0 0 24 24\"\n",
              "     width=\"24px\">\n",
              "    <g>\n",
              "        <path d=\"M19 3H5c-1.1 0-2 .9-2 2v14c0 1.1.9 2 2 2h14c1.1 0 2-.9 2-2V5c0-1.1-.9-2-2-2zM9 17H7v-7h2v7zm4 0h-2V7h2v10zm4 0h-2v-4h2v4z\"/>\n",
              "    </g>\n",
              "</svg>\n",
              "  </button>\n",
              "\n",
              "<style>\n",
              "  .colab-df-quickchart {\n",
              "      --bg-color: #E8F0FE;\n",
              "      --fill-color: #1967D2;\n",
              "      --hover-bg-color: #E2EBFA;\n",
              "      --hover-fill-color: #174EA6;\n",
              "      --disabled-fill-color: #AAA;\n",
              "      --disabled-bg-color: #DDD;\n",
              "  }\n",
              "\n",
              "  [theme=dark] .colab-df-quickchart {\n",
              "      --bg-color: #3B4455;\n",
              "      --fill-color: #D2E3FC;\n",
              "      --hover-bg-color: #434B5C;\n",
              "      --hover-fill-color: #FFFFFF;\n",
              "      --disabled-bg-color: #3B4455;\n",
              "      --disabled-fill-color: #666;\n",
              "  }\n",
              "\n",
              "  .colab-df-quickchart {\n",
              "    background-color: var(--bg-color);\n",
              "    border: none;\n",
              "    border-radius: 50%;\n",
              "    cursor: pointer;\n",
              "    display: none;\n",
              "    fill: var(--fill-color);\n",
              "    height: 32px;\n",
              "    padding: 0;\n",
              "    width: 32px;\n",
              "  }\n",
              "\n",
              "  .colab-df-quickchart:hover {\n",
              "    background-color: var(--hover-bg-color);\n",
              "    box-shadow: 0 1px 2px rgba(60, 64, 67, 0.3), 0 1px 3px 1px rgba(60, 64, 67, 0.15);\n",
              "    fill: var(--button-hover-fill-color);\n",
              "  }\n",
              "\n",
              "  .colab-df-quickchart-complete:disabled,\n",
              "  .colab-df-quickchart-complete:disabled:hover {\n",
              "    background-color: var(--disabled-bg-color);\n",
              "    fill: var(--disabled-fill-color);\n",
              "    box-shadow: none;\n",
              "  }\n",
              "\n",
              "  .colab-df-spinner {\n",
              "    border: 2px solid var(--fill-color);\n",
              "    border-color: transparent;\n",
              "    border-bottom-color: var(--fill-color);\n",
              "    animation:\n",
              "      spin 1s steps(1) infinite;\n",
              "  }\n",
              "\n",
              "  @keyframes spin {\n",
              "    0% {\n",
              "      border-color: transparent;\n",
              "      border-bottom-color: var(--fill-color);\n",
              "      border-left-color: var(--fill-color);\n",
              "    }\n",
              "    20% {\n",
              "      border-color: transparent;\n",
              "      border-left-color: var(--fill-color);\n",
              "      border-top-color: var(--fill-color);\n",
              "    }\n",
              "    30% {\n",
              "      border-color: transparent;\n",
              "      border-left-color: var(--fill-color);\n",
              "      border-top-color: var(--fill-color);\n",
              "      border-right-color: var(--fill-color);\n",
              "    }\n",
              "    40% {\n",
              "      border-color: transparent;\n",
              "      border-right-color: var(--fill-color);\n",
              "      border-top-color: var(--fill-color);\n",
              "    }\n",
              "    60% {\n",
              "      border-color: transparent;\n",
              "      border-right-color: var(--fill-color);\n",
              "    }\n",
              "    80% {\n",
              "      border-color: transparent;\n",
              "      border-right-color: var(--fill-color);\n",
              "      border-bottom-color: var(--fill-color);\n",
              "    }\n",
              "    90% {\n",
              "      border-color: transparent;\n",
              "      border-bottom-color: var(--fill-color);\n",
              "    }\n",
              "  }\n",
              "</style>\n",
              "\n",
              "  <script>\n",
              "    async function quickchart(key) {\n",
              "      const quickchartButtonEl =\n",
              "        document.querySelector('#' + key + ' button');\n",
              "      quickchartButtonEl.disabled = true;  // To prevent multiple clicks.\n",
              "      quickchartButtonEl.classList.add('colab-df-spinner');\n",
              "      try {\n",
              "        const charts = await google.colab.kernel.invokeFunction(\n",
              "            'suggestCharts', [key], {});\n",
              "      } catch (error) {\n",
              "        console.error('Error during call to suggestCharts:', error);\n",
              "      }\n",
              "      quickchartButtonEl.classList.remove('colab-df-spinner');\n",
              "      quickchartButtonEl.classList.add('colab-df-quickchart-complete');\n",
              "    }\n",
              "    (() => {\n",
              "      let quickchartButtonEl =\n",
              "        document.querySelector('#df-8d781842-de14-4cdc-a617-96196759ebf4 button');\n",
              "      quickchartButtonEl.style.display =\n",
              "        google.colab.kernel.accessAllowed ? 'block' : 'none';\n",
              "    })();\n",
              "  </script>\n",
              "</div>\n",
              "    </div>\n",
              "  </div>\n"
            ],
            "application/vnd.google.colaboratory.intrinsic+json": {
              "type": "dataframe",
              "variable_name": "YZV_data"
            }
          },
          "metadata": {},
          "execution_count": 5
        }
      ],
      "source": [
        "filename = 'YZV_data.csv'\n",
        "YZV_data = pd.read_csv(path + filename)\n",
        "\n",
        "set_index(YZV_data)\n",
        "\n",
        "tm_data = YZV_data\n",
        "\n",
        "YZV_data = YZV_data.drop(columns=['YZV'])\n",
        "\n",
        "YZV_data['YZV'] = tm_data['YZV']\n",
        "\n",
        "YZV_data"
      ]
    },
    {
      "cell_type": "markdown",
      "metadata": {
        "id": "zXg6cLaR3ag_"
      },
      "source": [
        "# Split train, validation and test data"
      ]
    },
    {
      "cell_type": "code",
      "execution_count": 6,
      "metadata": {
        "id": "xoO1H80-3bc2"
      },
      "outputs": [],
      "source": [
        "# def split_data(data, target, train_end =datetime(2020, 6, 30), test_start=datetime(2020, 10, 1), test_size=0.1):\n",
        "#   test_data = data.loc[test_start:]\n",
        "\n",
        "#   train_val = data.loc[:train_end]\n",
        "#   train_data, val_data = train_test_split(train_val, test_size=test_size, shuffle=False)\n",
        "\n",
        "#   X_train = train_data.drop(columns=[target])\n",
        "#   y_train = train_data[target]\n",
        "\n",
        "#   X_val = val_data.drop(columns=[target])\n",
        "#   y_val = val_data[target]\n",
        "\n",
        "#   X_test = test_data.drop(columns=[target])\n",
        "#   y_test = test_data[target]\n",
        "\n",
        "#   return np.array(X_train), np.array(y_train), np.array(X_val), np.array(y_val), np.array(X_test), np.array(y_test)"
      ]
    },
    {
      "cell_type": "code",
      "execution_count": 7,
      "metadata": {
        "id": "SLdm4Ya9g_pm"
      },
      "outputs": [],
      "source": [
        "def split_data(data, target, train_end =datetime(2022, 5, 30), test_start=datetime(2022, 5, 31), test_size=0.1):\n",
        "  test_data = data.loc[test_start:]\n",
        "\n",
        "  train_val = data.loc[:train_end]\n",
        "  train_data, val_data = train_test_split(train_val, test_size=test_size, shuffle=False)\n",
        "\n",
        "  return train_data, val_data, test_data"
      ]
    },
    {
      "cell_type": "markdown",
      "metadata": {
        "id": "fmWko9LRbor2"
      },
      "source": [
        "# Rolling Mechanism"
      ]
    },
    {
      "cell_type": "code",
      "execution_count": 8,
      "metadata": {
        "id": "K0tLOn6wbpPG"
      },
      "outputs": [],
      "source": [
        "# Define the rolling window function\n",
        "def rolling_window(df, in_sample_window_size, out_of_sample_size):\n",
        "  X, y = [], []\n",
        "  for i in range(in_sample_window_size, len(df) - out_of_sample_size):\n",
        "    X.append(df.iloc[i - in_sample_window_size:i, :-1].values)  # All features except the target column\n",
        "    y.append(df.iloc[i:i + out_of_sample_size, -1].values)  # Target column\n",
        "\n",
        "  return np.array(X), np.array(y)"
      ]
    },
    {
      "cell_type": "markdown",
      "metadata": {
        "id": "x1x9rC-d21Or"
      },
      "source": [
        "# Model"
      ]
    },
    {
      "cell_type": "markdown",
      "metadata": {
        "id": "lQ3ibTZk23LM"
      },
      "source": [
        "## YZV"
      ]
    },
    {
      "cell_type": "code",
      "execution_count": 9,
      "metadata": {
        "id": "bNrOr7NxcmJQ"
      },
      "outputs": [],
      "source": [
        "# YZV_X_train, YZV_y_train, YZV_X_val, YZV_y_val, YZV_X_test, YZV_y_test = split_data(YZV_data, 'YZV')"
      ]
    },
    {
      "cell_type": "code",
      "execution_count": 10,
      "metadata": {
        "id": "xNk_nu-JgwG9"
      },
      "outputs": [],
      "source": [
        "daily_train, daily_val, daily_test = split_data(YZV_data, 'YZV')"
      ]
    },
    {
      "cell_type": "code",
      "execution_count": 11,
      "metadata": {
        "id": "vlvTflZHcAQh"
      },
      "outputs": [],
      "source": [
        "in_sam_win_sz = 25\n",
        "out_sam_win_sz = 5"
      ]
    },
    {
      "cell_type": "code",
      "execution_count": 12,
      "metadata": {
        "id": "Ufuys3yZbwdR"
      },
      "outputs": [],
      "source": [
        "YZV_X_train, YZV_y_train = rolling_window(daily_train, in_sam_win_sz, out_sam_win_sz)\n",
        "YZV_X_val, YZV_y_val = rolling_window(daily_val, in_sam_win_sz, out_sam_win_sz)\n",
        "YZV_X_test, YZV_y_test = rolling_window(daily_test, in_sam_win_sz, out_sam_win_sz)"
      ]
    },
    {
      "cell_type": "code",
      "execution_count": 13,
      "metadata": {
        "colab": {
          "base_uri": "https://localhost:8080/"
        },
        "id": "MB3hVvfhnZor",
        "outputId": "d5b2ad34-341c-4f8e-8140-2bd5211fcbf2"
      },
      "outputs": [
        {
          "output_type": "execute_result",
          "data": {
            "text/plain": [
              "(5025, 25, 29)"
            ]
          },
          "metadata": {},
          "execution_count": 13
        }
      ],
      "source": [
        "YZV_X_train.shape"
      ]
    },
    {
      "cell_type": "code",
      "execution_count": 14,
      "metadata": {
        "colab": {
          "base_uri": "https://localhost:8080/"
        },
        "id": "u_WwfE8zG-xI",
        "outputId": "e3479963-b3e6-48ca-933d-11095635dfa7"
      },
      "outputs": [
        {
          "output_type": "execute_result",
          "data": {
            "text/plain": [
              "(5025, 5)"
            ]
          },
          "metadata": {},
          "execution_count": 14
        }
      ],
      "source": [
        "YZV_y_train.shape"
      ]
    },
    {
      "cell_type": "code",
      "execution_count": 15,
      "metadata": {
        "id": "x7sj4L_dHey3"
      },
      "outputs": [],
      "source": [
        "# YZV_y_train = np.expand_dims(YZV_y_train, axis=-1)\n",
        "# YZV_y_val = np.expand_dims(YZV_y_val, axis=-1)\n",
        "# YZV_y_test = np.expand_dims(YZV_y_test, axis=-1)"
      ]
    },
    {
      "cell_type": "code",
      "execution_count": 16,
      "metadata": {
        "id": "iJ4koRPs-ENE"
      },
      "outputs": [],
      "source": [
        "# qloss function to calculate loss\n",
        "def qloss(y_true, y_pred, n_q):\n",
        "  q = np.array(range(1, n_q + 1))\n",
        "  left = (q / (n_q + 1) - 1) * (y_true - y_pred)\n",
        "  right = q / (n_q + 1) * (y_true - y_pred)\n",
        "\n",
        "  return keras.backend.mean(keras.backend.maximum(left, right))"
      ]
    },
    {
      "cell_type": "code",
      "execution_count": 17,
      "metadata": {
        "id": "kLiXP1P5-Gua"
      },
      "outputs": [],
      "source": [
        "# Function to create the model\n",
        "def get_model(input_dim, num_units, act, dp, gauss_std, num_hidden_layers, num_quantiles):\n",
        "    input = Input((input_dim[1], input_dim[2], ), name='input')\n",
        "\n",
        "    x = input\n",
        "\n",
        "    for i in range(num_hidden_layers):\n",
        "        x = Dense(num_units[i], use_bias=True, kernel_initializer='he_normal', bias_initializer='he_normal',\n",
        "                  kernel_regularizer=regularizers.l2(0.001), activation=act[i])(x)\n",
        "        x = Dropout(dp[i])(x)\n",
        "        x = GaussianNoise(gauss_std[i])(x)\n",
        "\n",
        "    # Flatten the 3D input to 2D to remove the time dimension\n",
        "    x = Flatten()(x)\n",
        "\n",
        "    x = Dense(out_sam_win_sz, activation=None, use_bias=True, kernel_initializer='he_normal', bias_initializer='he_normal')(x)\n",
        "\n",
        "    model = Model(input, x)\n",
        "\n",
        "    return model"
      ]
    },
    {
      "cell_type": "code",
      "execution_count": 18,
      "metadata": {
        "id": "gPhlsz1tm0YV"
      },
      "outputs": [],
      "source": [
        "# Objective function for PSO\n",
        "def objective_function(params):\n",
        "    num_hidden_layers = int(params[0])\n",
        "    # num_quantiles = int(params[1])\n",
        "    num_quantiles = out_sam_win_sz\n",
        "\n",
        "    # Adjust lists to match the number of hidden layers\n",
        "    num_units = [int(params[1])] * num_hidden_layers\n",
        "    act = ['relu'] * num_hidden_layers\n",
        "    dropout = [params[2]] * num_hidden_layers\n",
        "    gauss_std = [params[3]] * num_hidden_layers\n",
        "\n",
        "    # Create the model\n",
        "    model = get_model(input_dim=input_dim, num_units=num_units, act=act, dp=dropout, gauss_std=gauss_std, num_hidden_layers=num_hidden_layers, num_quantiles=num_quantiles)\n",
        "\n",
        "    # Compile the model\n",
        "    model.compile(loss=lambda y_t, y_p: qloss(y_t, y_p, n_q=num_quantiles), optimizer='adam')\n",
        "\n",
        "    # Train the model\n",
        "    early_stopping = EarlyStopping(monitor='val_loss', patience=5)\n",
        "    model.fit(YZV_X_train, YZV_y_train, epochs=80, validation_data=(YZV_X_val, YZV_y_val), batch_size=64, callbacks=[early_stopping], verbose=0)\n",
        "\n",
        "    # Predictions\n",
        "    predictions = model.predict(YZV_X_val)\n",
        "\n",
        "    # Calculate mean squared error (MSE) as the objective function\n",
        "    mse = mean_squared_error(YZV_y_val, predictions)\n",
        "\n",
        "    return mse"
      ]
    },
    {
      "cell_type": "code",
      "execution_count": 19,
      "metadata": {
        "id": "doqIPVc19W56"
      },
      "outputs": [],
      "source": [
        "# # Parameter bounds for PSO\n",
        "# lb = [1, 10, 50, 50, 0.0, 0.0, 0.0, 0.0]  # Lower bounds [num_hidden_layers, num_quantiles, ...]\n",
        "# ub = [5, 99, 300, 300, 0.5, 0.5, 1.0, 1.0]  # Upper bounds [num_hidden_layers, num_quantiles, ...]\n",
        "\n",
        "# input_dim = 25\n",
        "\n",
        "# swarmsize = 50\n",
        "# maxiter = 100"
      ]
    },
    {
      "cell_type": "code",
      "execution_count": 20,
      "metadata": {
        "id": "WHthT07YIf8k"
      },
      "outputs": [],
      "source": [
        "# Parameter bounds for PSO\n",
        "lb = [1, 30, 0.1, 0.0]  # Lower bounds [num_hidden_layers, num_quantiles, ...]\n",
        "ub = [3, 80, 0.3, 0.5]  # Upper bounds [num_hidden_layers, num_quantiles, ...]\n",
        "\n",
        "input_dim = YZV_X_train.shape\n",
        "\n",
        "swarmsize = 20\n",
        "maxiter = 50"
      ]
    },
    {
      "cell_type": "code",
      "execution_count": 21,
      "metadata": {
        "id": "ohlf-M5e9tXV"
      },
      "outputs": [],
      "source": [
        "# start_time = time.time()\n",
        "\n",
        "# # Run PSO to find the best parameters\n",
        "# best_params, _ = pso(objective_function, lb, ub, swarmsize=swarmsize, maxiter=maxiter)\n",
        "\n",
        "# end_time = time.time()\n",
        "# execution_time = end_time - start_time"
      ]
    },
    {
      "cell_type": "code",
      "execution_count": 22,
      "metadata": {
        "id": "ybN0CEB-_Lzz"
      },
      "outputs": [],
      "source": [
        "# execution_time"
      ]
    },
    {
      "cell_type": "code",
      "source": [
        "# best_params"
      ],
      "metadata": {
        "id": "EAJIgJON9dQF"
      },
      "execution_count": 23,
      "outputs": []
    },
    {
      "cell_type": "code",
      "execution_count": 39,
      "metadata": {
        "id": "nUEcyNaxi9VA"
      },
      "outputs": [],
      "source": [
        "best_params = [2.09575155, 51.95366351, 0.15347284, 0.]"
      ]
    },
    {
      "cell_type": "code",
      "execution_count": 40,
      "metadata": {
        "id": "iz3t_yu3oU2J"
      },
      "outputs": [],
      "source": [
        "# best_params = [1.05013429, 79.89863874,  0.13223594,  0.]"
      ]
    },
    {
      "cell_type": "code",
      "execution_count": 41,
      "metadata": {
        "id": "ZI2ROROgjKe7",
        "colab": {
          "base_uri": "https://localhost:8080/"
        },
        "outputId": "98689c0b-acc3-4d3a-d74e-7264eb3f031d"
      },
      "outputs": [
        {
          "output_type": "execute_result",
          "data": {
            "text/plain": [
              "<keras.src.callbacks.history.History at 0x787d3196d4e0>"
            ]
          },
          "metadata": {},
          "execution_count": 41
        }
      ],
      "source": [
        "num_hidden_layers = int(best_params[0])\n",
        "# num_quantiles = int(best_params[1])\n",
        "num_quantiles = out_sam_win_sz\n",
        "\n",
        "# Adjust lists to match the number of hidden layers\n",
        "num_units = [int(best_params[1])] * num_hidden_layers\n",
        "act = ['relu'] * num_hidden_layers\n",
        "dropout = [best_params[2]] * num_hidden_layers\n",
        "gauss_std = [best_params[3]] * num_hidden_layers\n",
        "\n",
        "# Create the model\n",
        "QRNN_model = get_model(input_dim=input_dim, num_units=num_units, act=act, dp=dropout, gauss_std=gauss_std, num_hidden_layers=num_hidden_layers, num_quantiles=num_quantiles)\n",
        "\n",
        "# Compile the model\n",
        "QRNN_model.compile(loss=lambda y_t, y_p: qloss(y_t, y_p, n_q=num_quantiles), optimizer='adam')\n",
        "\n",
        "# Train the model\n",
        "early_stopping = EarlyStopping(monitor='val_loss', patience=5)\n",
        "QRNN_model.fit(YZV_X_train, YZV_y_train, epochs=80, validation_data=(YZV_X_val, YZV_y_val), batch_size=64, callbacks=[early_stopping], verbose=0)"
      ]
    },
    {
      "cell_type": "code",
      "execution_count": 42,
      "metadata": {
        "id": "z-B1n5Zzj4Ez",
        "colab": {
          "base_uri": "https://localhost:8080/"
        },
        "outputId": "22d9c527-bf48-4796-da6e-d51e4c2c9a90"
      },
      "outputs": [
        {
          "output_type": "stream",
          "name": "stdout",
          "text": [
            "\u001b[1m17/17\u001b[0m \u001b[32m━━━━━━━━━━━━━━━━━━━━\u001b[0m\u001b[37m\u001b[0m \u001b[1m0s\u001b[0m 5ms/step\n"
          ]
        }
      ],
      "source": [
        "# Predictions\n",
        "YZV_test_predictions = QRNN_model.predict(YZV_X_test)"
      ]
    },
    {
      "cell_type": "code",
      "execution_count": 43,
      "metadata": {
        "id": "jwzP1dE6-kNk"
      },
      "outputs": [],
      "source": [
        "# # Train and predict with optimal parameters\n",
        "# YZV_test_predictions = esn_model(optimal_params, YZV_X_train, YZV_y_train, YZV_X_test)"
      ]
    },
    {
      "cell_type": "code",
      "execution_count": 44,
      "metadata": {
        "id": "aT3iSEfP-nvZ"
      },
      "outputs": [],
      "source": [
        "def calculate_mape(actual, predicted):\n",
        "  actual, predicted = np.array(actual), np.array(predicted)\n",
        "  return np.mean(np.abs((actual - predicted) / actual)) * 100"
      ]
    },
    {
      "cell_type": "code",
      "execution_count": 45,
      "metadata": {
        "id": "ShSWSpL52SQ4",
        "colab": {
          "base_uri": "https://localhost:8080/"
        },
        "outputId": "bdd84014-cc01-4fe3-8f4f-61d8cb54f93c"
      },
      "outputs": [
        {
          "output_type": "stream",
          "name": "stdout",
          "text": [
            "MSE: 8.816964311689355e-06\n",
            "RMSE: 0.002969337352287435\n",
            "MAE: 0.001999390514639364\n",
            "MAPE: 5100.955965223018%\n"
          ]
        }
      ],
      "source": [
        "mse = mean_squared_error(YZV_y_test, YZV_test_predictions)\n",
        "print(f'MSE: {mse}')\n",
        "\n",
        "rmse = np.sqrt(mse)\n",
        "print(f'RMSE: {rmse}')\n",
        "\n",
        "mae = mean_absolute_error(YZV_y_test, YZV_test_predictions)\n",
        "print(f'MAE: {mae}')\n",
        "\n",
        "mape = calculate_mape(YZV_y_test, YZV_test_predictions)\n",
        "print(f'MAPE: {mape}%')"
      ]
    },
    {
      "cell_type": "code",
      "execution_count": 46,
      "metadata": {
        "id": "UAb2RyBVqaof"
      },
      "outputs": [],
      "source": [
        "# path_1 = '/content/drive/MyDrive/Volatility/New_data_2000_2024/New_predictions/YZV/'\n",
        "\n",
        "# df_pred = pd.DataFrame(YZV_test_predictions[:,0], columns=['qrnn_pred'])\n",
        "# filename = 'QRNN_pred.csv'\n",
        "# df_pred.to_csv(path_1 + filename)"
      ]
    },
    {
      "cell_type": "code",
      "execution_count": 31,
      "metadata": {
        "id": "bi3fkx5uo4Ro"
      },
      "outputs": [],
      "source": []
    }
  ],
  "metadata": {
    "colab": {
      "collapsed_sections": [
        "zXg6cLaR3ag_",
        "fmWko9LRbor2"
      ],
      "provenance": []
    },
    "kernelspec": {
      "display_name": "Python 3",
      "name": "python3"
    },
    "language_info": {
      "name": "python"
    }
  },
  "nbformat": 4,
  "nbformat_minor": 0
}
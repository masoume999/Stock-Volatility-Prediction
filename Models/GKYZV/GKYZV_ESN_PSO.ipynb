{
  "nbformat": 4,
  "nbformat_minor": 0,
  "metadata": {
    "colab": {
      "provenance": [],
      "collapsed_sections": [
        "wYfRQJFzrpuV",
        "G0ia_d2orryZ",
        "M1V9DnTYrtuK",
        "P97Ar3mdsDZD",
        "gTjAxNWLsFeN",
        "V7tMYviHsMDN"
      ]
    },
    "kernelspec": {
      "name": "python3",
      "display_name": "Python 3"
    },
    "language_info": {
      "name": "python"
    }
  },
  "cells": [
    {
      "cell_type": "code",
      "source": [
        "!git clone https://github.com/cknd/pyESN.git"
      ],
      "metadata": {
        "colab": {
          "base_uri": "https://localhost:8080/"
        },
        "id": "80b3PWQTFGbZ",
        "outputId": "12a9dcb2-62de-47e8-91a9-78f5cd6ca8d2"
      },
      "execution_count": null,
      "outputs": [
        {
          "output_type": "stream",
          "name": "stdout",
          "text": [
            "Cloning into 'pyESN'...\n",
            "remote: Enumerating objects: 106, done.\u001b[K\n",
            "remote: Total 106 (delta 0), reused 0 (delta 0), pack-reused 106 (from 1)\u001b[K\n",
            "Receiving objects: 100% (106/106), 1.17 MiB | 3.83 MiB/s, done.\n",
            "Resolving deltas: 100% (53/53), done.\n"
          ]
        }
      ]
    },
    {
      "cell_type": "code",
      "source": [
        "!pip install pyESN"
      ],
      "metadata": {
        "colab": {
          "base_uri": "https://localhost:8080/"
        },
        "id": "Uju7rAdqFKVo",
        "outputId": "97594824-e906-4d05-8468-8b28e2a89d33"
      },
      "execution_count": null,
      "outputs": [
        {
          "output_type": "stream",
          "name": "stdout",
          "text": [
            "Collecting pyESN\n",
            "  Downloading pyEsn-0.0.2-py3-none-any.whl.metadata (372 bytes)\n",
            "Downloading pyEsn-0.0.2-py3-none-any.whl (2.3 kB)\n",
            "Installing collected packages: pyESN\n",
            "Successfully installed pyESN-0.0.2\n"
          ]
        }
      ]
    },
    {
      "cell_type": "code",
      "source": [
        "!pip install pyswarm"
      ],
      "metadata": {
        "colab": {
          "base_uri": "https://localhost:8080/"
        },
        "id": "MEhAVI-yFNCa",
        "outputId": "8fbd862b-bbf4-43ad-f27d-17c52b302015"
      },
      "execution_count": null,
      "outputs": [
        {
          "output_type": "stream",
          "name": "stdout",
          "text": [
            "Collecting pyswarm\n",
            "  Downloading pyswarm-0.6.tar.gz (4.3 kB)\n",
            "  Preparing metadata (setup.py) ... \u001b[?25l\u001b[?25hdone\n",
            "Requirement already satisfied: numpy in /usr/local/lib/python3.10/dist-packages (from pyswarm) (1.26.4)\n",
            "Building wheels for collected packages: pyswarm\n",
            "  Building wheel for pyswarm (setup.py) ... \u001b[?25l\u001b[?25hdone\n",
            "  Created wheel for pyswarm: filename=pyswarm-0.6-py3-none-any.whl size=4464 sha256=b8c2a622711ff8ee98d9529adc3ad1711760ed0c7c6f722bc13bcd987e8a83bd\n",
            "  Stored in directory: /root/.cache/pip/wheels/71/67/40/62fa158f497f942277cbab8199b05cb61c571ab324e67ad0d6\n",
            "Successfully built pyswarm\n",
            "Installing collected packages: pyswarm\n",
            "Successfully installed pyswarm-0.6\n"
          ]
        }
      ]
    },
    {
      "cell_type": "code",
      "source": [
        "import sys\n",
        "sys.path.append('/content/pyESN')"
      ],
      "metadata": {
        "id": "NABhaOS84eQF"
      },
      "execution_count": null,
      "outputs": []
    },
    {
      "cell_type": "code",
      "source": [
        "from sklearn.metrics import mean_squared_error, mean_absolute_error\n",
        "from sklearn.model_selection import train_test_split\n",
        "from google.colab import drive\n",
        "from datetime import datetime\n",
        "from pyswarm import pso\n",
        "from pyESN import ESN\n",
        "# from pyESN.pyESN import ESN\n",
        "from math import sqrt\n",
        "import pandas as pd\n",
        "import numpy as np"
      ],
      "metadata": {
        "id": "ZlaLYYSQFWTV"
      },
      "execution_count": null,
      "outputs": []
    },
    {
      "cell_type": "code",
      "source": [
        "drive.mount('/content/drive')\n",
        "path = '/content/drive/MyDrive/Volatility/New_data_2000_2024/Not_normal_wc_real/'"
      ],
      "metadata": {
        "colab": {
          "base_uri": "https://localhost:8080/"
        },
        "id": "z1H8XAuYApqV",
        "outputId": "dcb87130-003c-4b5b-a198-f789349f0c8b"
      },
      "execution_count": null,
      "outputs": [
        {
          "output_type": "stream",
          "name": "stdout",
          "text": [
            "Mounted at /content/drive\n"
          ]
        }
      ]
    },
    {
      "cell_type": "code",
      "source": [
        "def set_index(df):\n",
        "  df.index = pd.to_datetime(df['Date'])\n",
        "  df.drop(columns=['Date'], inplace=True)"
      ],
      "metadata": {
        "id": "Q4lxDAGTExNt"
      },
      "execution_count": null,
      "outputs": []
    },
    {
      "cell_type": "code",
      "source": [
        "filename = 'GKYZV_data.csv'\n",
        "HV_data = pd.read_csv(path + filename)"
      ],
      "metadata": {
        "id": "oPLuK-AU_0hM"
      },
      "execution_count": null,
      "outputs": []
    },
    {
      "cell_type": "code",
      "source": [
        "set_index(HV_data)"
      ],
      "metadata": {
        "id": "9haa7WE-E0H9"
      },
      "execution_count": null,
      "outputs": []
    },
    {
      "cell_type": "code",
      "source": [
        "tm_data = HV_data\n",
        "HV_data = HV_data.drop(columns=['GKYZV'])\n",
        "HV_data['GKYZV'] = tm_data['GKYZV']\n",
        "HV_data"
      ],
      "metadata": {
        "colab": {
          "base_uri": "https://localhost:8080/",
          "height": 683
        },
        "id": "rAFx_qjF520w",
        "outputId": "3a51593d-24ec-43bd-e541-afaaae496f00"
      },
      "execution_count": null,
      "outputs": [
        {
          "output_type": "execute_result",
          "data": {
            "text/plain": [
              "            log_returns  ('GARCH', 'normal', 0)  ('GARCH', 'normal', 1)  \\\n",
              "Date                                                                      \n",
              "2000-02-02     0.000077               -0.001864               -0.001725   \n",
              "2000-02-03     0.000020               -0.001554               -0.001557   \n",
              "2000-02-04     0.000152               -0.001080               -0.001163   \n",
              "2000-02-07     0.000090               -0.000627               -0.000738   \n",
              "2000-02-08    -0.000335               -0.000202               -0.000335   \n",
              "...                 ...                     ...                     ...   \n",
              "2024-08-26    -0.000161               -0.000358               -0.000493   \n",
              "2024-08-27    -0.000193               -0.000694               -0.000707   \n",
              "2024-08-28    -0.000154               -0.000954               -0.000846   \n",
              "2024-08-29    -0.000150               -0.001147               -0.000937   \n",
              "2024-08-30    -0.000129               -0.001232               -0.000923   \n",
              "\n",
              "            ('GARCH', 'gaussian', 0)  ('GARCH', 'gaussian', 1)  \\\n",
              "Date                                                             \n",
              "2000-02-02                 -0.001864                 -0.001725   \n",
              "2000-02-03                 -0.001554                 -0.001557   \n",
              "2000-02-04                 -0.001080                 -0.001163   \n",
              "2000-02-07                 -0.000627                 -0.000738   \n",
              "2000-02-08                 -0.000202                 -0.000335   \n",
              "...                              ...                       ...   \n",
              "2024-08-26                 -0.000358                 -0.000493   \n",
              "2024-08-27                 -0.000694                 -0.000707   \n",
              "2024-08-28                 -0.000954                 -0.000846   \n",
              "2024-08-29                 -0.001147                 -0.000937   \n",
              "2024-08-30                 -0.001232                 -0.000923   \n",
              "\n",
              "            ('GARCH', 'ged', 0)  ('GARCH', 'ged', 1)  \\\n",
              "Date                                                   \n",
              "2000-02-02            -0.001971            -0.001822   \n",
              "2000-02-03            -0.001745            -0.001612   \n",
              "2000-02-04            -0.001302            -0.001217   \n",
              "2000-02-07            -0.000863            -0.000784   \n",
              "2000-02-08            -0.000364            -0.000368   \n",
              "...                         ...                  ...   \n",
              "2024-08-26            -0.001023            -0.000502   \n",
              "2024-08-27            -0.001244            -0.000717   \n",
              "2024-08-28            -0.001311            -0.000852   \n",
              "2024-08-29            -0.001324            -0.000933   \n",
              "2024-08-30            -0.001267            -0.000919   \n",
              "\n",
              "            ('FIGARCH', 'normal', 0)  ('FIGARCH', 'normal', 1)  \\\n",
              "Date                                                             \n",
              "2000-02-02                 -0.001782                 -0.001782   \n",
              "2000-02-03                 -0.001519                 -0.001519   \n",
              "2000-02-04                 -0.001076                 -0.001076   \n",
              "2000-02-07                 -0.000678                 -0.000678   \n",
              "2000-02-08                 -0.000311                 -0.000311   \n",
              "...                              ...                       ...   \n",
              "2024-08-26                 -0.000690                 -0.000690   \n",
              "2024-08-27                 -0.000899                 -0.000899   \n",
              "2024-08-28                 -0.001012                 -0.001012   \n",
              "2024-08-29                 -0.001067                 -0.001067   \n",
              "2024-08-30                 -0.001030                 -0.001030   \n",
              "\n",
              "            ('FIGARCH', 'gaussian', 0)  ...  inflation_rate   usd_eur  \\\n",
              "Date                                    ...                             \n",
              "2000-02-02                   -0.001782  ...  -280507.141339 -9.532198   \n",
              "2000-02-03                   -0.001519  ...  -260330.361056 -8.790286   \n",
              "2000-02-04                   -0.001076  ...  -200834.042712 -6.727301   \n",
              "2000-02-07                   -0.000678  ...  -136734.041748 -4.500745   \n",
              "2000-02-08                   -0.000311  ...   -78129.198414 -2.468626   \n",
              "...                                ...  ...             ...       ...   \n",
              "2024-08-26                   -0.000690  ...   367959.138182  4.906428   \n",
              "2024-08-27                   -0.000899  ...   157132.066741  2.221002   \n",
              "2024-08-28                   -0.001012  ...   -97335.136463 -1.051394   \n",
              "2024-08-29                   -0.001067  ...  -399769.471316 -4.935908   \n",
              "2024-08-30                   -0.001030  ...  -728245.081011 -9.125420   \n",
              "\n",
              "                  usd_jpy    usd_gbp     usd_cny    usd_cad      usd_mxn  \\\n",
              "Date                                                                       \n",
              "2000-02-02 -115483.935741 -25.204908 -667.139276 -20.309269  -870.717996   \n",
              "2000-02-03 -107723.491598 -23.159152 -618.146493 -18.955134  -799.604126   \n",
              "2000-02-04  -83922.602134 -17.659121 -475.895763 -14.738414  -610.423502   \n",
              "2000-02-07  -57854.216936 -11.749618 -322.833213 -10.139957  -410.827912   \n",
              "2000-02-08  -33721.478802  -6.356898 -182.858321  -5.895064  -230.130383   \n",
              "...                   ...        ...         ...        ...          ...   \n",
              "2024-08-26   75042.327304   7.151391  185.257251   6.351472  1524.776491   \n",
              "2024-08-27   29914.845185   3.476358   76.788614   2.415067   774.080957   \n",
              "2024-08-28  -23800.733155  -1.072689  -53.866326  -2.260864  -172.154813   \n",
              "2024-08-29  -87119.135381  -6.550484 -208.826493  -7.751167 -1344.291544   \n",
              "2024-08-30 -155744.602561 -12.520266 -376.419611 -13.673622 -2657.323913   \n",
              "\n",
              "                 gt_data  unemployment_rate     GKYZV  \n",
              "Date                                                   \n",
              "2000-02-02 -53308.067923        -164.888872 -0.001436  \n",
              "2000-02-03 -49391.829352        -152.205474 -0.001275  \n",
              "2000-02-04 -38026.991031        -116.610418 -0.000941  \n",
              "2000-02-07 -25799.214705         -78.602644 -0.000613  \n",
              "2000-02-08 -14616.177002         -43.682933 -0.000297  \n",
              "...                  ...                ...       ...  \n",
              "2024-08-26     16.790559          65.925473  0.000421  \n",
              "2024-08-27  -3946.268810          28.527492  0.000042  \n",
              "2024-08-28  -8749.025243         -16.834312 -0.000355  \n",
              "2024-08-29 -14935.055801         -70.858623 -0.000779  \n",
              "2024-08-30 -22127.779545        -129.617764 -0.001194  \n",
              "\n",
              "[6184 rows x 23 columns]"
            ],
            "text/html": [
              "\n",
              "  <div id=\"df-80cdaf66-6dc7-47cc-8b21-2303df0269ca\" class=\"colab-df-container\">\n",
              "    <div>\n",
              "<style scoped>\n",
              "    .dataframe tbody tr th:only-of-type {\n",
              "        vertical-align: middle;\n",
              "    }\n",
              "\n",
              "    .dataframe tbody tr th {\n",
              "        vertical-align: top;\n",
              "    }\n",
              "\n",
              "    .dataframe thead th {\n",
              "        text-align: right;\n",
              "    }\n",
              "</style>\n",
              "<table border=\"1\" class=\"dataframe\">\n",
              "  <thead>\n",
              "    <tr style=\"text-align: right;\">\n",
              "      <th></th>\n",
              "      <th>log_returns</th>\n",
              "      <th>('GARCH', 'normal', 0)</th>\n",
              "      <th>('GARCH', 'normal', 1)</th>\n",
              "      <th>('GARCH', 'gaussian', 0)</th>\n",
              "      <th>('GARCH', 'gaussian', 1)</th>\n",
              "      <th>('GARCH', 'ged', 0)</th>\n",
              "      <th>('GARCH', 'ged', 1)</th>\n",
              "      <th>('FIGARCH', 'normal', 0)</th>\n",
              "      <th>('FIGARCH', 'normal', 1)</th>\n",
              "      <th>('FIGARCH', 'gaussian', 0)</th>\n",
              "      <th>...</th>\n",
              "      <th>inflation_rate</th>\n",
              "      <th>usd_eur</th>\n",
              "      <th>usd_jpy</th>\n",
              "      <th>usd_gbp</th>\n",
              "      <th>usd_cny</th>\n",
              "      <th>usd_cad</th>\n",
              "      <th>usd_mxn</th>\n",
              "      <th>gt_data</th>\n",
              "      <th>unemployment_rate</th>\n",
              "      <th>GKYZV</th>\n",
              "    </tr>\n",
              "    <tr>\n",
              "      <th>Date</th>\n",
              "      <th></th>\n",
              "      <th></th>\n",
              "      <th></th>\n",
              "      <th></th>\n",
              "      <th></th>\n",
              "      <th></th>\n",
              "      <th></th>\n",
              "      <th></th>\n",
              "      <th></th>\n",
              "      <th></th>\n",
              "      <th></th>\n",
              "      <th></th>\n",
              "      <th></th>\n",
              "      <th></th>\n",
              "      <th></th>\n",
              "      <th></th>\n",
              "      <th></th>\n",
              "      <th></th>\n",
              "      <th></th>\n",
              "      <th></th>\n",
              "      <th></th>\n",
              "    </tr>\n",
              "  </thead>\n",
              "  <tbody>\n",
              "    <tr>\n",
              "      <th>2000-02-02</th>\n",
              "      <td>0.000077</td>\n",
              "      <td>-0.001864</td>\n",
              "      <td>-0.001725</td>\n",
              "      <td>-0.001864</td>\n",
              "      <td>-0.001725</td>\n",
              "      <td>-0.001971</td>\n",
              "      <td>-0.001822</td>\n",
              "      <td>-0.001782</td>\n",
              "      <td>-0.001782</td>\n",
              "      <td>-0.001782</td>\n",
              "      <td>...</td>\n",
              "      <td>-280507.141339</td>\n",
              "      <td>-9.532198</td>\n",
              "      <td>-115483.935741</td>\n",
              "      <td>-25.204908</td>\n",
              "      <td>-667.139276</td>\n",
              "      <td>-20.309269</td>\n",
              "      <td>-870.717996</td>\n",
              "      <td>-53308.067923</td>\n",
              "      <td>-164.888872</td>\n",
              "      <td>-0.001436</td>\n",
              "    </tr>\n",
              "    <tr>\n",
              "      <th>2000-02-03</th>\n",
              "      <td>0.000020</td>\n",
              "      <td>-0.001554</td>\n",
              "      <td>-0.001557</td>\n",
              "      <td>-0.001554</td>\n",
              "      <td>-0.001557</td>\n",
              "      <td>-0.001745</td>\n",
              "      <td>-0.001612</td>\n",
              "      <td>-0.001519</td>\n",
              "      <td>-0.001519</td>\n",
              "      <td>-0.001519</td>\n",
              "      <td>...</td>\n",
              "      <td>-260330.361056</td>\n",
              "      <td>-8.790286</td>\n",
              "      <td>-107723.491598</td>\n",
              "      <td>-23.159152</td>\n",
              "      <td>-618.146493</td>\n",
              "      <td>-18.955134</td>\n",
              "      <td>-799.604126</td>\n",
              "      <td>-49391.829352</td>\n",
              "      <td>-152.205474</td>\n",
              "      <td>-0.001275</td>\n",
              "    </tr>\n",
              "    <tr>\n",
              "      <th>2000-02-04</th>\n",
              "      <td>0.000152</td>\n",
              "      <td>-0.001080</td>\n",
              "      <td>-0.001163</td>\n",
              "      <td>-0.001080</td>\n",
              "      <td>-0.001163</td>\n",
              "      <td>-0.001302</td>\n",
              "      <td>-0.001217</td>\n",
              "      <td>-0.001076</td>\n",
              "      <td>-0.001076</td>\n",
              "      <td>-0.001076</td>\n",
              "      <td>...</td>\n",
              "      <td>-200834.042712</td>\n",
              "      <td>-6.727301</td>\n",
              "      <td>-83922.602134</td>\n",
              "      <td>-17.659121</td>\n",
              "      <td>-475.895763</td>\n",
              "      <td>-14.738414</td>\n",
              "      <td>-610.423502</td>\n",
              "      <td>-38026.991031</td>\n",
              "      <td>-116.610418</td>\n",
              "      <td>-0.000941</td>\n",
              "    </tr>\n",
              "    <tr>\n",
              "      <th>2000-02-07</th>\n",
              "      <td>0.000090</td>\n",
              "      <td>-0.000627</td>\n",
              "      <td>-0.000738</td>\n",
              "      <td>-0.000627</td>\n",
              "      <td>-0.000738</td>\n",
              "      <td>-0.000863</td>\n",
              "      <td>-0.000784</td>\n",
              "      <td>-0.000678</td>\n",
              "      <td>-0.000678</td>\n",
              "      <td>-0.000678</td>\n",
              "      <td>...</td>\n",
              "      <td>-136734.041748</td>\n",
              "      <td>-4.500745</td>\n",
              "      <td>-57854.216936</td>\n",
              "      <td>-11.749618</td>\n",
              "      <td>-322.833213</td>\n",
              "      <td>-10.139957</td>\n",
              "      <td>-410.827912</td>\n",
              "      <td>-25799.214705</td>\n",
              "      <td>-78.602644</td>\n",
              "      <td>-0.000613</td>\n",
              "    </tr>\n",
              "    <tr>\n",
              "      <th>2000-02-08</th>\n",
              "      <td>-0.000335</td>\n",
              "      <td>-0.000202</td>\n",
              "      <td>-0.000335</td>\n",
              "      <td>-0.000202</td>\n",
              "      <td>-0.000335</td>\n",
              "      <td>-0.000364</td>\n",
              "      <td>-0.000368</td>\n",
              "      <td>-0.000311</td>\n",
              "      <td>-0.000311</td>\n",
              "      <td>-0.000311</td>\n",
              "      <td>...</td>\n",
              "      <td>-78129.198414</td>\n",
              "      <td>-2.468626</td>\n",
              "      <td>-33721.478802</td>\n",
              "      <td>-6.356898</td>\n",
              "      <td>-182.858321</td>\n",
              "      <td>-5.895064</td>\n",
              "      <td>-230.130383</td>\n",
              "      <td>-14616.177002</td>\n",
              "      <td>-43.682933</td>\n",
              "      <td>-0.000297</td>\n",
              "    </tr>\n",
              "    <tr>\n",
              "      <th>...</th>\n",
              "      <td>...</td>\n",
              "      <td>...</td>\n",
              "      <td>...</td>\n",
              "      <td>...</td>\n",
              "      <td>...</td>\n",
              "      <td>...</td>\n",
              "      <td>...</td>\n",
              "      <td>...</td>\n",
              "      <td>...</td>\n",
              "      <td>...</td>\n",
              "      <td>...</td>\n",
              "      <td>...</td>\n",
              "      <td>...</td>\n",
              "      <td>...</td>\n",
              "      <td>...</td>\n",
              "      <td>...</td>\n",
              "      <td>...</td>\n",
              "      <td>...</td>\n",
              "      <td>...</td>\n",
              "      <td>...</td>\n",
              "      <td>...</td>\n",
              "    </tr>\n",
              "    <tr>\n",
              "      <th>2024-08-26</th>\n",
              "      <td>-0.000161</td>\n",
              "      <td>-0.000358</td>\n",
              "      <td>-0.000493</td>\n",
              "      <td>-0.000358</td>\n",
              "      <td>-0.000493</td>\n",
              "      <td>-0.001023</td>\n",
              "      <td>-0.000502</td>\n",
              "      <td>-0.000690</td>\n",
              "      <td>-0.000690</td>\n",
              "      <td>-0.000690</td>\n",
              "      <td>...</td>\n",
              "      <td>367959.138182</td>\n",
              "      <td>4.906428</td>\n",
              "      <td>75042.327304</td>\n",
              "      <td>7.151391</td>\n",
              "      <td>185.257251</td>\n",
              "      <td>6.351472</td>\n",
              "      <td>1524.776491</td>\n",
              "      <td>16.790559</td>\n",
              "      <td>65.925473</td>\n",
              "      <td>0.000421</td>\n",
              "    </tr>\n",
              "    <tr>\n",
              "      <th>2024-08-27</th>\n",
              "      <td>-0.000193</td>\n",
              "      <td>-0.000694</td>\n",
              "      <td>-0.000707</td>\n",
              "      <td>-0.000694</td>\n",
              "      <td>-0.000707</td>\n",
              "      <td>-0.001244</td>\n",
              "      <td>-0.000717</td>\n",
              "      <td>-0.000899</td>\n",
              "      <td>-0.000899</td>\n",
              "      <td>-0.000899</td>\n",
              "      <td>...</td>\n",
              "      <td>157132.066741</td>\n",
              "      <td>2.221002</td>\n",
              "      <td>29914.845185</td>\n",
              "      <td>3.476358</td>\n",
              "      <td>76.788614</td>\n",
              "      <td>2.415067</td>\n",
              "      <td>774.080957</td>\n",
              "      <td>-3946.268810</td>\n",
              "      <td>28.527492</td>\n",
              "      <td>0.000042</td>\n",
              "    </tr>\n",
              "    <tr>\n",
              "      <th>2024-08-28</th>\n",
              "      <td>-0.000154</td>\n",
              "      <td>-0.000954</td>\n",
              "      <td>-0.000846</td>\n",
              "      <td>-0.000954</td>\n",
              "      <td>-0.000846</td>\n",
              "      <td>-0.001311</td>\n",
              "      <td>-0.000852</td>\n",
              "      <td>-0.001012</td>\n",
              "      <td>-0.001012</td>\n",
              "      <td>-0.001012</td>\n",
              "      <td>...</td>\n",
              "      <td>-97335.136463</td>\n",
              "      <td>-1.051394</td>\n",
              "      <td>-23800.733155</td>\n",
              "      <td>-1.072689</td>\n",
              "      <td>-53.866326</td>\n",
              "      <td>-2.260864</td>\n",
              "      <td>-172.154813</td>\n",
              "      <td>-8749.025243</td>\n",
              "      <td>-16.834312</td>\n",
              "      <td>-0.000355</td>\n",
              "    </tr>\n",
              "    <tr>\n",
              "      <th>2024-08-29</th>\n",
              "      <td>-0.000150</td>\n",
              "      <td>-0.001147</td>\n",
              "      <td>-0.000937</td>\n",
              "      <td>-0.001147</td>\n",
              "      <td>-0.000937</td>\n",
              "      <td>-0.001324</td>\n",
              "      <td>-0.000933</td>\n",
              "      <td>-0.001067</td>\n",
              "      <td>-0.001067</td>\n",
              "      <td>-0.001067</td>\n",
              "      <td>...</td>\n",
              "      <td>-399769.471316</td>\n",
              "      <td>-4.935908</td>\n",
              "      <td>-87119.135381</td>\n",
              "      <td>-6.550484</td>\n",
              "      <td>-208.826493</td>\n",
              "      <td>-7.751167</td>\n",
              "      <td>-1344.291544</td>\n",
              "      <td>-14935.055801</td>\n",
              "      <td>-70.858623</td>\n",
              "      <td>-0.000779</td>\n",
              "    </tr>\n",
              "    <tr>\n",
              "      <th>2024-08-30</th>\n",
              "      <td>-0.000129</td>\n",
              "      <td>-0.001232</td>\n",
              "      <td>-0.000923</td>\n",
              "      <td>-0.001232</td>\n",
              "      <td>-0.000923</td>\n",
              "      <td>-0.001267</td>\n",
              "      <td>-0.000919</td>\n",
              "      <td>-0.001030</td>\n",
              "      <td>-0.001030</td>\n",
              "      <td>-0.001030</td>\n",
              "      <td>...</td>\n",
              "      <td>-728245.081011</td>\n",
              "      <td>-9.125420</td>\n",
              "      <td>-155744.602561</td>\n",
              "      <td>-12.520266</td>\n",
              "      <td>-376.419611</td>\n",
              "      <td>-13.673622</td>\n",
              "      <td>-2657.323913</td>\n",
              "      <td>-22127.779545</td>\n",
              "      <td>-129.617764</td>\n",
              "      <td>-0.001194</td>\n",
              "    </tr>\n",
              "  </tbody>\n",
              "</table>\n",
              "<p>6184 rows × 23 columns</p>\n",
              "</div>\n",
              "    <div class=\"colab-df-buttons\">\n",
              "\n",
              "  <div class=\"colab-df-container\">\n",
              "    <button class=\"colab-df-convert\" onclick=\"convertToInteractive('df-80cdaf66-6dc7-47cc-8b21-2303df0269ca')\"\n",
              "            title=\"Convert this dataframe to an interactive table.\"\n",
              "            style=\"display:none;\">\n",
              "\n",
              "  <svg xmlns=\"http://www.w3.org/2000/svg\" height=\"24px\" viewBox=\"0 -960 960 960\">\n",
              "    <path d=\"M120-120v-720h720v720H120Zm60-500h600v-160H180v160Zm220 220h160v-160H400v160Zm0 220h160v-160H400v160ZM180-400h160v-160H180v160Zm440 0h160v-160H620v160ZM180-180h160v-160H180v160Zm440 0h160v-160H620v160Z\"/>\n",
              "  </svg>\n",
              "    </button>\n",
              "\n",
              "  <style>\n",
              "    .colab-df-container {\n",
              "      display:flex;\n",
              "      gap: 12px;\n",
              "    }\n",
              "\n",
              "    .colab-df-convert {\n",
              "      background-color: #E8F0FE;\n",
              "      border: none;\n",
              "      border-radius: 50%;\n",
              "      cursor: pointer;\n",
              "      display: none;\n",
              "      fill: #1967D2;\n",
              "      height: 32px;\n",
              "      padding: 0 0 0 0;\n",
              "      width: 32px;\n",
              "    }\n",
              "\n",
              "    .colab-df-convert:hover {\n",
              "      background-color: #E2EBFA;\n",
              "      box-shadow: 0px 1px 2px rgba(60, 64, 67, 0.3), 0px 1px 3px 1px rgba(60, 64, 67, 0.15);\n",
              "      fill: #174EA6;\n",
              "    }\n",
              "\n",
              "    .colab-df-buttons div {\n",
              "      margin-bottom: 4px;\n",
              "    }\n",
              "\n",
              "    [theme=dark] .colab-df-convert {\n",
              "      background-color: #3B4455;\n",
              "      fill: #D2E3FC;\n",
              "    }\n",
              "\n",
              "    [theme=dark] .colab-df-convert:hover {\n",
              "      background-color: #434B5C;\n",
              "      box-shadow: 0px 1px 3px 1px rgba(0, 0, 0, 0.15);\n",
              "      filter: drop-shadow(0px 1px 2px rgba(0, 0, 0, 0.3));\n",
              "      fill: #FFFFFF;\n",
              "    }\n",
              "  </style>\n",
              "\n",
              "    <script>\n",
              "      const buttonEl =\n",
              "        document.querySelector('#df-80cdaf66-6dc7-47cc-8b21-2303df0269ca button.colab-df-convert');\n",
              "      buttonEl.style.display =\n",
              "        google.colab.kernel.accessAllowed ? 'block' : 'none';\n",
              "\n",
              "      async function convertToInteractive(key) {\n",
              "        const element = document.querySelector('#df-80cdaf66-6dc7-47cc-8b21-2303df0269ca');\n",
              "        const dataTable =\n",
              "          await google.colab.kernel.invokeFunction('convertToInteractive',\n",
              "                                                    [key], {});\n",
              "        if (!dataTable) return;\n",
              "\n",
              "        const docLinkHtml = 'Like what you see? Visit the ' +\n",
              "          '<a target=\"_blank\" href=https://colab.research.google.com/notebooks/data_table.ipynb>data table notebook</a>'\n",
              "          + ' to learn more about interactive tables.';\n",
              "        element.innerHTML = '';\n",
              "        dataTable['output_type'] = 'display_data';\n",
              "        await google.colab.output.renderOutput(dataTable, element);\n",
              "        const docLink = document.createElement('div');\n",
              "        docLink.innerHTML = docLinkHtml;\n",
              "        element.appendChild(docLink);\n",
              "      }\n",
              "    </script>\n",
              "  </div>\n",
              "\n",
              "\n",
              "<div id=\"df-2397ec87-eabf-42b1-97ba-207ac5e50ee1\">\n",
              "  <button class=\"colab-df-quickchart\" onclick=\"quickchart('df-2397ec87-eabf-42b1-97ba-207ac5e50ee1')\"\n",
              "            title=\"Suggest charts\"\n",
              "            style=\"display:none;\">\n",
              "\n",
              "<svg xmlns=\"http://www.w3.org/2000/svg\" height=\"24px\"viewBox=\"0 0 24 24\"\n",
              "     width=\"24px\">\n",
              "    <g>\n",
              "        <path d=\"M19 3H5c-1.1 0-2 .9-2 2v14c0 1.1.9 2 2 2h14c1.1 0 2-.9 2-2V5c0-1.1-.9-2-2-2zM9 17H7v-7h2v7zm4 0h-2V7h2v10zm4 0h-2v-4h2v4z\"/>\n",
              "    </g>\n",
              "</svg>\n",
              "  </button>\n",
              "\n",
              "<style>\n",
              "  .colab-df-quickchart {\n",
              "      --bg-color: #E8F0FE;\n",
              "      --fill-color: #1967D2;\n",
              "      --hover-bg-color: #E2EBFA;\n",
              "      --hover-fill-color: #174EA6;\n",
              "      --disabled-fill-color: #AAA;\n",
              "      --disabled-bg-color: #DDD;\n",
              "  }\n",
              "\n",
              "  [theme=dark] .colab-df-quickchart {\n",
              "      --bg-color: #3B4455;\n",
              "      --fill-color: #D2E3FC;\n",
              "      --hover-bg-color: #434B5C;\n",
              "      --hover-fill-color: #FFFFFF;\n",
              "      --disabled-bg-color: #3B4455;\n",
              "      --disabled-fill-color: #666;\n",
              "  }\n",
              "\n",
              "  .colab-df-quickchart {\n",
              "    background-color: var(--bg-color);\n",
              "    border: none;\n",
              "    border-radius: 50%;\n",
              "    cursor: pointer;\n",
              "    display: none;\n",
              "    fill: var(--fill-color);\n",
              "    height: 32px;\n",
              "    padding: 0;\n",
              "    width: 32px;\n",
              "  }\n",
              "\n",
              "  .colab-df-quickchart:hover {\n",
              "    background-color: var(--hover-bg-color);\n",
              "    box-shadow: 0 1px 2px rgba(60, 64, 67, 0.3), 0 1px 3px 1px rgba(60, 64, 67, 0.15);\n",
              "    fill: var(--button-hover-fill-color);\n",
              "  }\n",
              "\n",
              "  .colab-df-quickchart-complete:disabled,\n",
              "  .colab-df-quickchart-complete:disabled:hover {\n",
              "    background-color: var(--disabled-bg-color);\n",
              "    fill: var(--disabled-fill-color);\n",
              "    box-shadow: none;\n",
              "  }\n",
              "\n",
              "  .colab-df-spinner {\n",
              "    border: 2px solid var(--fill-color);\n",
              "    border-color: transparent;\n",
              "    border-bottom-color: var(--fill-color);\n",
              "    animation:\n",
              "      spin 1s steps(1) infinite;\n",
              "  }\n",
              "\n",
              "  @keyframes spin {\n",
              "    0% {\n",
              "      border-color: transparent;\n",
              "      border-bottom-color: var(--fill-color);\n",
              "      border-left-color: var(--fill-color);\n",
              "    }\n",
              "    20% {\n",
              "      border-color: transparent;\n",
              "      border-left-color: var(--fill-color);\n",
              "      border-top-color: var(--fill-color);\n",
              "    }\n",
              "    30% {\n",
              "      border-color: transparent;\n",
              "      border-left-color: var(--fill-color);\n",
              "      border-top-color: var(--fill-color);\n",
              "      border-right-color: var(--fill-color);\n",
              "    }\n",
              "    40% {\n",
              "      border-color: transparent;\n",
              "      border-right-color: var(--fill-color);\n",
              "      border-top-color: var(--fill-color);\n",
              "    }\n",
              "    60% {\n",
              "      border-color: transparent;\n",
              "      border-right-color: var(--fill-color);\n",
              "    }\n",
              "    80% {\n",
              "      border-color: transparent;\n",
              "      border-right-color: var(--fill-color);\n",
              "      border-bottom-color: var(--fill-color);\n",
              "    }\n",
              "    90% {\n",
              "      border-color: transparent;\n",
              "      border-bottom-color: var(--fill-color);\n",
              "    }\n",
              "  }\n",
              "</style>\n",
              "\n",
              "  <script>\n",
              "    async function quickchart(key) {\n",
              "      const quickchartButtonEl =\n",
              "        document.querySelector('#' + key + ' button');\n",
              "      quickchartButtonEl.disabled = true;  // To prevent multiple clicks.\n",
              "      quickchartButtonEl.classList.add('colab-df-spinner');\n",
              "      try {\n",
              "        const charts = await google.colab.kernel.invokeFunction(\n",
              "            'suggestCharts', [key], {});\n",
              "      } catch (error) {\n",
              "        console.error('Error during call to suggestCharts:', error);\n",
              "      }\n",
              "      quickchartButtonEl.classList.remove('colab-df-spinner');\n",
              "      quickchartButtonEl.classList.add('colab-df-quickchart-complete');\n",
              "    }\n",
              "    (() => {\n",
              "      let quickchartButtonEl =\n",
              "        document.querySelector('#df-2397ec87-eabf-42b1-97ba-207ac5e50ee1 button');\n",
              "      quickchartButtonEl.style.display =\n",
              "        google.colab.kernel.accessAllowed ? 'block' : 'none';\n",
              "    })();\n",
              "  </script>\n",
              "</div>\n",
              "    </div>\n",
              "  </div>\n"
            ],
            "application/vnd.google.colaboratory.intrinsic+json": {
              "type": "dataframe",
              "variable_name": "HV_data"
            }
          },
          "metadata": {},
          "execution_count": 10
        }
      ]
    },
    {
      "cell_type": "markdown",
      "source": [
        "# Split train, validation and test data"
      ],
      "metadata": {
        "id": "yck1rbrVKC8J"
      }
    },
    {
      "cell_type": "code",
      "source": [
        "# def rolling_window_transform(data, in_sample_size, out_of_sample_size):\n",
        "#   total_size = in_sample_size + out_of_sample_size\n",
        "#   in_sample = []\n",
        "#   out_of_sample = []\n",
        "\n",
        "#   for start in range(len(data) - total_size + 1):\n",
        "#     in_sample.append(data.iloc[start : start + in_sample_size])\n",
        "#     out_of_sample.append(data.iloc[start + in_sample_size : start + total_size])\n",
        "\n",
        "#   return np.array(in_sample), np.array(out_of_sample)\n",
        "\n",
        "# in_sample_size = 100\n",
        "# out_of_sample_size = 5\n",
        "\n",
        "# train_in_sample, train_out_of_sample = rolling_window_transform(train_data, in_sample_size, out_of_sample_size)\n",
        "# val_in_sample, val_out_of_sample = rolling_window_transform(val_data, in_sample_size, out_of_sample_size)\n",
        "# test_in_sample, test_out_of_sample = rolling_window_transform(test_data, in_sample_size, out_of_sample_size)"
      ],
      "metadata": {
        "id": "pkmWgAZpvOSO"
      },
      "execution_count": null,
      "outputs": []
    },
    {
      "cell_type": "code",
      "source": [
        "# train_end = datetime(2020, 6, 30)\n",
        "# test_start = datetime(2020, 10, 1)"
      ],
      "metadata": {
        "id": "YEZkofgKFEBV"
      },
      "execution_count": null,
      "outputs": []
    },
    {
      "cell_type": "code",
      "source": [
        "def split_data(data, target, train_end =datetime(2022, 5, 30), test_start=datetime(2022, 5, 31), test_size=0.1):\n",
        "  test_data = data.loc[test_start:]\n",
        "\n",
        "  train_val = data.loc[:train_end]\n",
        "  train_data, val_data = train_test_split(train_val, test_size=test_size, shuffle=False)\n",
        "\n",
        "  X_train = train_data.drop(columns=[target])\n",
        "  y_train = train_data[target]\n",
        "\n",
        "  X_val = val_data.drop(columns=[target])\n",
        "  y_val = val_data[target]\n",
        "\n",
        "  X_test = test_data.drop(columns=[target])\n",
        "  y_test = test_data[target]\n",
        "\n",
        "  return np.array(X_train), np.array(y_train), np.array(X_val), np.array(y_val), np.array(X_test), np.array(y_test)"
      ],
      "metadata": {
        "id": "HOtj9YjcprPF"
      },
      "execution_count": null,
      "outputs": []
    },
    {
      "cell_type": "markdown",
      "source": [
        "# Model"
      ],
      "metadata": {
        "id": "-HpXKIPGyWLh"
      }
    },
    {
      "cell_type": "code",
      "source": [
        "def calculate_mape(actual, predicted):\n",
        "  actual, predicted = np.array(actual), np.array(predicted)\n",
        "  return np.mean(np.abs((actual - predicted) / actual)) * 100"
      ],
      "metadata": {
        "id": "aGvL2RUxqi0U"
      },
      "execution_count": null,
      "outputs": []
    },
    {
      "cell_type": "markdown",
      "source": [
        "## GKYZV"
      ],
      "metadata": {
        "id": "FICVtfBF2PKI"
      }
    },
    {
      "cell_type": "code",
      "source": [
        "HV_X_train, HV_y_train, HV_X_val, HV_y_val, HV_X_test, HV_y_test = split_data(HV_data, 'GKYZV')"
      ],
      "metadata": {
        "id": "vZPz8Xs02P-0"
      },
      "execution_count": null,
      "outputs": []
    },
    {
      "cell_type": "code",
      "source": [
        "def esn_model(params, X_train, y_train, X_val):\n",
        "  n_reservoir, spectral_radius, sparsity = int(params[0]), params[1], params[2]\n",
        "  n_inputs = X_train.shape[1]\n",
        "  n_outputs = 1\n",
        "\n",
        "  esn = ESN(n_inputs=n_inputs, n_reservoir=n_reservoir, n_outputs=n_outputs, spectral_radius=spectral_radius, sparsity=sparsity)\n",
        "  esn.fit(X_train, y_train)\n",
        "\n",
        "  # Predict on validation data (for validation performance evaluation)\n",
        "  pred_val = esn.predict(X_val)\n",
        "\n",
        "  return pred_val"
      ],
      "metadata": {
        "id": "M3Rt6bg9yX7K"
      },
      "execution_count": null,
      "outputs": []
    },
    {
      "cell_type": "code",
      "source": [
        "def pso_objective(params):\n",
        "  val_pred = esn_model(params, HV_X_train, HV_y_train, HV_X_val)\n",
        "  loss = mean_squared_error(HV_y_val, val_pred)\n",
        "\n",
        "  return loss"
      ],
      "metadata": {
        "id": "0_iM1wKfLtUM"
      },
      "execution_count": null,
      "outputs": []
    },
    {
      "cell_type": "code",
      "source": [
        "# Initialize bounds for the parameters\n",
        "lb = [10, 0.1, 0.01]  # Lower bounds for n_reservoir, spectral_radius, sparsity\n",
        "ub = [500, 1.0, 0.5]  # Upper bounds for n_reservoir, spectral_radius, sparsity\n",
        "swarmsize = 50\n",
        "maxiter = 100"
      ],
      "metadata": {
        "id": "OA6HjolRLtZK"
      },
      "execution_count": null,
      "outputs": []
    },
    {
      "cell_type": "code",
      "source": [
        "optimal_params, _ = pso(pso_objective, lb, ub, swarmsize=swarmsize, maxiter=maxiter)"
      ],
      "metadata": {
        "id": "IKQyHAYwLw_Z",
        "colab": {
          "base_uri": "https://localhost:8080/"
        },
        "outputId": "e1488438-e294-4664-9078-7dc913c13a4c"
      },
      "execution_count": null,
      "outputs": [
        {
          "output_type": "stream",
          "name": "stdout",
          "text": [
            "Stopping search: Swarm best objective change less than 1e-08\n"
          ]
        }
      ]
    },
    {
      "cell_type": "code",
      "source": [
        "# optimal_params = [10, 0.33049469, 0.22681297]"
      ],
      "metadata": {
        "id": "HKE3CTYKAG06"
      },
      "execution_count": null,
      "outputs": []
    },
    {
      "cell_type": "code",
      "source": [
        "optimal_params = [4.70454340e+02, 8.33752065e-01, 4.30383183e-01]"
      ],
      "metadata": {
        "id": "ATI3Jc4IFvxQ"
      },
      "execution_count": null,
      "outputs": []
    },
    {
      "cell_type": "code",
      "source": [
        "optimal_params"
      ],
      "metadata": {
        "colab": {
          "base_uri": "https://localhost:8080/"
        },
        "id": "UiSR2ui1D4Y6",
        "outputId": "416b9198-d19d-4de3-858e-182a2b41417a"
      },
      "execution_count": null,
      "outputs": [
        {
          "output_type": "execute_result",
          "data": {
            "text/plain": [
              "array([4.70454340e+02, 8.33752065e-01, 4.30383183e-01])"
            ]
          },
          "metadata": {},
          "execution_count": 21
        }
      ]
    },
    {
      "cell_type": "code",
      "source": [
        "# Train and predict with optimal parameters\n",
        "HV_test_predictions = esn_model(optimal_params, HV_X_train, HV_y_train, HV_X_test)"
      ],
      "metadata": {
        "id": "4HJT31OJz6hV"
      },
      "execution_count": null,
      "outputs": []
    },
    {
      "cell_type": "code",
      "source": [
        "HV_test_predictions.shape"
      ],
      "metadata": {
        "id": "v2VCaQRb1lSt",
        "colab": {
          "base_uri": "https://localhost:8080/"
        },
        "outputId": "8ad310b3-d564-495a-8d23-e6a4163a01c7"
      },
      "execution_count": null,
      "outputs": [
        {
          "output_type": "execute_result",
          "data": {
            "text/plain": [
              "(567, 1)"
            ]
          },
          "metadata": {},
          "execution_count": 21
        }
      ]
    },
    {
      "cell_type": "code",
      "source": [
        "HV_y_test.shape"
      ],
      "metadata": {
        "id": "WS96VoqO1pPx",
        "colab": {
          "base_uri": "https://localhost:8080/"
        },
        "outputId": "7edcf8d0-425f-464f-d5da-7ebe84d38aa2"
      },
      "execution_count": null,
      "outputs": [
        {
          "output_type": "execute_result",
          "data": {
            "text/plain": [
              "(567,)"
            ]
          },
          "metadata": {},
          "execution_count": 22
        }
      ]
    },
    {
      "cell_type": "code",
      "source": [
        "mse = mean_squared_error(HV_y_test, HV_test_predictions)\n",
        "print(f'MSE: {mse}')\n",
        "\n",
        "rmse = np.sqrt(mse)\n",
        "print(f'RMSE: {rmse}')\n",
        "\n",
        "mae = mean_absolute_error(HV_y_test, HV_test_predictions)\n",
        "print(f'MAE: {mae}')\n",
        "\n",
        "mape = calculate_mape(HV_y_test, HV_test_predictions)\n",
        "print(f'MAPE: {mape}%')"
      ],
      "metadata": {
        "id": "9ukbcwKO0oaO",
        "colab": {
          "base_uri": "https://localhost:8080/"
        },
        "outputId": "daf58246-9805-4e18-ec2b-909564b766b7"
      },
      "execution_count": null,
      "outputs": [
        {
          "output_type": "stream",
          "name": "stdout",
          "text": [
            "MSE: 0.00041112695463768904\n",
            "RMSE: 0.020276265796188634\n",
            "MAE: 0.007509501738989907\n",
            "MAPE: 222728.3379499554%\n"
          ]
        }
      ]
    },
    {
      "cell_type": "code",
      "source": [
        "# path_1 = '/content/drive/MyDrive/Volatility/New_data_2000_2024/New_predictions/GKYZV/'\n",
        "\n",
        "# df_pred = pd.DataFrame(HV_test_predictions, columns=['esn_pred'])\n",
        "# filename = 'ESN_pred.csv'\n",
        "# df_pred.to_csv(path_1 + filename)"
      ],
      "metadata": {
        "id": "Uppf1LX2G0aW"
      },
      "execution_count": null,
      "outputs": []
    },
    {
      "cell_type": "code",
      "source": [],
      "metadata": {
        "id": "iHs829OVy35t"
      },
      "execution_count": null,
      "outputs": []
    }
  ]
}
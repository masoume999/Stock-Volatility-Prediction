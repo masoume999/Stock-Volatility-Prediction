{
  "nbformat": 4,
  "nbformat_minor": 0,
  "metadata": {
    "colab": {
      "provenance": [],
      "collapsed_sections": [
        "wYfRQJFzrpuV",
        "G0ia_d2orryZ",
        "M1V9DnTYrtuK",
        "P97Ar3mdsDZD",
        "gTjAxNWLsFeN",
        "V7tMYviHsMDN"
      ]
    },
    "kernelspec": {
      "name": "python3",
      "display_name": "Python 3"
    },
    "language_info": {
      "name": "python"
    }
  },
  "cells": [
    {
      "cell_type": "code",
      "source": [
        "!git clone https://github.com/cknd/pyESN.git"
      ],
      "metadata": {
        "colab": {
          "base_uri": "https://localhost:8080/"
        },
        "id": "80b3PWQTFGbZ",
        "outputId": "4f1e634f-2d5c-403a-a3f1-1137c0b4fedb"
      },
      "execution_count": null,
      "outputs": [
        {
          "output_type": "stream",
          "name": "stdout",
          "text": [
            "Cloning into 'pyESN'...\n",
            "remote: Enumerating objects: 106, done.\u001b[K\n",
            "remote: Total 106 (delta 0), reused 0 (delta 0), pack-reused 106 (from 1)\u001b[K\n",
            "Receiving objects: 100% (106/106), 1.17 MiB | 2.78 MiB/s, done.\n",
            "Resolving deltas: 100% (53/53), done.\n"
          ]
        }
      ]
    },
    {
      "cell_type": "code",
      "source": [
        "!pip install pyESN"
      ],
      "metadata": {
        "colab": {
          "base_uri": "https://localhost:8080/"
        },
        "id": "Uju7rAdqFKVo",
        "outputId": "e41fa0ec-909a-4cc2-9c2e-3b046c4a9cbe"
      },
      "execution_count": null,
      "outputs": [
        {
          "output_type": "stream",
          "name": "stdout",
          "text": [
            "Collecting pyESN\n",
            "  Downloading pyEsn-0.0.2-py3-none-any.whl.metadata (372 bytes)\n",
            "Downloading pyEsn-0.0.2-py3-none-any.whl (2.3 kB)\n",
            "Installing collected packages: pyESN\n",
            "Successfully installed pyESN-0.0.2\n"
          ]
        }
      ]
    },
    {
      "cell_type": "code",
      "source": [
        "!pip install pyswarm"
      ],
      "metadata": {
        "colab": {
          "base_uri": "https://localhost:8080/"
        },
        "id": "MEhAVI-yFNCa",
        "outputId": "d6eed3eb-1eb0-4084-dbe6-1dbf11f9f865"
      },
      "execution_count": null,
      "outputs": [
        {
          "output_type": "stream",
          "name": "stdout",
          "text": [
            "Collecting pyswarm\n",
            "  Downloading pyswarm-0.6.tar.gz (4.3 kB)\n",
            "  Preparing metadata (setup.py) ... \u001b[?25l\u001b[?25hdone\n",
            "Requirement already satisfied: numpy in /usr/local/lib/python3.10/dist-packages (from pyswarm) (1.26.4)\n",
            "Building wheels for collected packages: pyswarm\n",
            "  Building wheel for pyswarm (setup.py) ... \u001b[?25l\u001b[?25hdone\n",
            "  Created wheel for pyswarm: filename=pyswarm-0.6-py3-none-any.whl size=4464 sha256=67417547ace687d798d3274097447bfb586ae195a70e4a0008c24f1c73f04161\n",
            "  Stored in directory: /root/.cache/pip/wheels/71/67/40/62fa158f497f942277cbab8199b05cb61c571ab324e67ad0d6\n",
            "Successfully built pyswarm\n",
            "Installing collected packages: pyswarm\n",
            "Successfully installed pyswarm-0.6\n"
          ]
        }
      ]
    },
    {
      "cell_type": "code",
      "source": [
        "import sys\n",
        "sys.path.append('/content/pyESN')"
      ],
      "metadata": {
        "id": "NABhaOS84eQF"
      },
      "execution_count": null,
      "outputs": []
    },
    {
      "cell_type": "code",
      "source": [
        "from sklearn.metrics import mean_squared_error, mean_absolute_error\n",
        "from sklearn.model_selection import train_test_split\n",
        "from google.colab import drive\n",
        "from datetime import datetime\n",
        "from pyswarm import pso\n",
        "from pyESN import ESN\n",
        "# from pyESN.pyESN import ESN\n",
        "from math import sqrt\n",
        "import pandas as pd\n",
        "import numpy as np"
      ],
      "metadata": {
        "id": "ZlaLYYSQFWTV"
      },
      "execution_count": null,
      "outputs": []
    },
    {
      "cell_type": "code",
      "source": [
        "drive.mount('/content/drive')\n",
        "path = '/content/drive/MyDrive/Volatility/New_data_2000_2024/Not_normal_wc_real/'"
      ],
      "metadata": {
        "colab": {
          "base_uri": "https://localhost:8080/"
        },
        "id": "z1H8XAuYApqV",
        "outputId": "11116b75-64e8-49cc-9c58-0a38c2e21b89"
      },
      "execution_count": null,
      "outputs": [
        {
          "output_type": "stream",
          "name": "stdout",
          "text": [
            "Mounted at /content/drive\n"
          ]
        }
      ]
    },
    {
      "cell_type": "code",
      "source": [
        "def set_index(df):\n",
        "  df.index = pd.to_datetime(df['Date'])\n",
        "  df.drop(columns=['Date'], inplace=True)"
      ],
      "metadata": {
        "id": "Q4lxDAGTExNt"
      },
      "execution_count": null,
      "outputs": []
    },
    {
      "cell_type": "code",
      "source": [
        "filename = 'GKV_data.csv'\n",
        "HV_data = pd.read_csv(path + filename)"
      ],
      "metadata": {
        "id": "oPLuK-AU_0hM"
      },
      "execution_count": null,
      "outputs": []
    },
    {
      "cell_type": "code",
      "source": [
        "set_index(HV_data)"
      ],
      "metadata": {
        "id": "9haa7WE-E0H9"
      },
      "execution_count": null,
      "outputs": []
    },
    {
      "cell_type": "code",
      "source": [
        "tm_data = HV_data\n",
        "HV_data = HV_data.drop(columns=['GKV'])\n",
        "HV_data['GKV'] = tm_data['GKV']\n",
        "HV_data"
      ],
      "metadata": {
        "colab": {
          "base_uri": "https://localhost:8080/",
          "height": 683
        },
        "id": "UuraWugU51KT",
        "outputId": "62f7550a-3301-4e99-fe2f-cd60a8d642f1"
      },
      "execution_count": null,
      "outputs": [
        {
          "output_type": "execute_result",
          "data": {
            "text/plain": [
              "            log_returns  ('GARCH', 'normal', 0)  ('GARCH', 'normal', 1)  \\\n",
              "Date                                                                      \n",
              "2000-02-02     0.000077               -0.001864               -0.001725   \n",
              "2000-02-03     0.000020               -0.001554               -0.001557   \n",
              "2000-02-04     0.000152               -0.001080               -0.001163   \n",
              "2000-02-07     0.000090               -0.000627               -0.000738   \n",
              "2000-02-08    -0.000335               -0.000202               -0.000335   \n",
              "...                 ...                     ...                     ...   \n",
              "2024-08-26    -0.000161               -0.000358               -0.000493   \n",
              "2024-08-27    -0.000193               -0.000694               -0.000707   \n",
              "2024-08-28    -0.000154               -0.000954               -0.000846   \n",
              "2024-08-29    -0.000150               -0.001147               -0.000937   \n",
              "2024-08-30    -0.000129               -0.001232               -0.000923   \n",
              "\n",
              "            ('GARCH', 'gaussian', 0)  ('GARCH', 'gaussian', 1)  \\\n",
              "Date                                                             \n",
              "2000-02-02                 -0.001864                 -0.001725   \n",
              "2000-02-03                 -0.001554                 -0.001557   \n",
              "2000-02-04                 -0.001080                 -0.001163   \n",
              "2000-02-07                 -0.000627                 -0.000738   \n",
              "2000-02-08                 -0.000202                 -0.000335   \n",
              "...                              ...                       ...   \n",
              "2024-08-26                 -0.000358                 -0.000493   \n",
              "2024-08-27                 -0.000694                 -0.000707   \n",
              "2024-08-28                 -0.000954                 -0.000846   \n",
              "2024-08-29                 -0.001147                 -0.000937   \n",
              "2024-08-30                 -0.001232                 -0.000923   \n",
              "\n",
              "            ('GARCH', 'ged', 0)  ('GARCH', 'ged', 1)  \\\n",
              "Date                                                   \n",
              "2000-02-02            -0.001971            -0.001822   \n",
              "2000-02-03            -0.001745            -0.001612   \n",
              "2000-02-04            -0.001302            -0.001217   \n",
              "2000-02-07            -0.000863            -0.000784   \n",
              "2000-02-08            -0.000364            -0.000368   \n",
              "...                         ...                  ...   \n",
              "2024-08-26            -0.001023            -0.000502   \n",
              "2024-08-27            -0.001244            -0.000717   \n",
              "2024-08-28            -0.001311            -0.000852   \n",
              "2024-08-29            -0.001324            -0.000933   \n",
              "2024-08-30            -0.001267            -0.000919   \n",
              "\n",
              "            ('FIGARCH', 'normal', 0)  ('FIGARCH', 'normal', 1)  \\\n",
              "Date                                                             \n",
              "2000-02-02                 -0.001782                 -0.001782   \n",
              "2000-02-03                 -0.001519                 -0.001519   \n",
              "2000-02-04                 -0.001076                 -0.001076   \n",
              "2000-02-07                 -0.000678                 -0.000678   \n",
              "2000-02-08                 -0.000311                 -0.000311   \n",
              "...                              ...                       ...   \n",
              "2024-08-26                 -0.000690                 -0.000690   \n",
              "2024-08-27                 -0.000899                 -0.000899   \n",
              "2024-08-28                 -0.001012                 -0.001012   \n",
              "2024-08-29                 -0.001067                 -0.001067   \n",
              "2024-08-30                 -0.001030                 -0.001030   \n",
              "\n",
              "            ('FIGARCH', 'gaussian', 0)  ('FIGARCH', 'gaussian', 1)  \\\n",
              "Date                                                                 \n",
              "2000-02-02                   -0.001782                   -0.001782   \n",
              "2000-02-03                   -0.001519                   -0.001519   \n",
              "2000-02-04                   -0.001076                   -0.001076   \n",
              "2000-02-07                   -0.000678                   -0.000678   \n",
              "2000-02-08                   -0.000311                   -0.000311   \n",
              "...                                ...                         ...   \n",
              "2024-08-26                   -0.000690                   -0.000690   \n",
              "2024-08-27                   -0.000899                   -0.000899   \n",
              "2024-08-28                   -0.001012                   -0.001012   \n",
              "2024-08-29                   -0.001067                   -0.001067   \n",
              "2024-08-30                   -0.001030                   -0.001030   \n",
              "\n",
              "                    vix  inflation_rate  unemployment_rate    usd_gbp  \\\n",
              "Date                                                                    \n",
              "2000-02-02 -5074.430765  -280507.141339        -164.888872 -25.204908   \n",
              "2000-02-03 -4871.204473  -260330.361056        -152.205474 -23.159152   \n",
              "2000-02-04 -3989.985998  -200834.042712        -116.610418 -17.659121   \n",
              "2000-02-07 -2979.521889  -136734.041748         -78.602644 -11.749618   \n",
              "2000-02-08 -1886.674367   -78129.198414         -43.682933  -6.356898   \n",
              "...                 ...             ...                ...        ...   \n",
              "2024-08-26  -118.886061   367959.138182          65.925473   7.151391   \n",
              "2024-08-27  -381.296847   157132.066741          28.527492   3.476358   \n",
              "2024-08-28  -746.562442   -97335.136463         -16.834312  -1.072689   \n",
              "2024-08-29 -1297.880813  -399769.471316         -70.858623  -6.550484   \n",
              "2024-08-30 -1945.559572  -728245.081011        -129.617764 -12.520266   \n",
              "\n",
              "               usd_cny      usd_mxn       gt_data       GKV  \n",
              "Date                                                         \n",
              "2000-02-02 -667.139276  -870.717996 -53308.067923 -0.001784  \n",
              "2000-02-03 -618.146493  -799.604126 -49391.829352 -0.001577  \n",
              "2000-02-04 -475.895763  -610.423502 -38026.991031 -0.001162  \n",
              "2000-02-07 -322.833213  -410.827912 -25799.214705 -0.000757  \n",
              "2000-02-08 -182.858321  -230.130383 -14616.177002 -0.000370  \n",
              "...                ...          ...           ...       ...  \n",
              "2024-08-26  185.257251  1524.776491     16.790559  0.000297  \n",
              "2024-08-27   76.788614   774.080957  -3946.268810  0.000028  \n",
              "2024-08-28  -53.866326  -172.154813  -8749.025243 -0.000257  \n",
              "2024-08-29 -208.826493 -1344.291544 -14935.055801 -0.000562  \n",
              "2024-08-30 -376.419611 -2657.323913 -22127.779545 -0.000862  \n",
              "\n",
              "[6184 rows x 19 columns]"
            ],
            "text/html": [
              "\n",
              "  <div id=\"df-95037ffc-ff89-4827-964b-fd577ff43d47\" class=\"colab-df-container\">\n",
              "    <div>\n",
              "<style scoped>\n",
              "    .dataframe tbody tr th:only-of-type {\n",
              "        vertical-align: middle;\n",
              "    }\n",
              "\n",
              "    .dataframe tbody tr th {\n",
              "        vertical-align: top;\n",
              "    }\n",
              "\n",
              "    .dataframe thead th {\n",
              "        text-align: right;\n",
              "    }\n",
              "</style>\n",
              "<table border=\"1\" class=\"dataframe\">\n",
              "  <thead>\n",
              "    <tr style=\"text-align: right;\">\n",
              "      <th></th>\n",
              "      <th>log_returns</th>\n",
              "      <th>('GARCH', 'normal', 0)</th>\n",
              "      <th>('GARCH', 'normal', 1)</th>\n",
              "      <th>('GARCH', 'gaussian', 0)</th>\n",
              "      <th>('GARCH', 'gaussian', 1)</th>\n",
              "      <th>('GARCH', 'ged', 0)</th>\n",
              "      <th>('GARCH', 'ged', 1)</th>\n",
              "      <th>('FIGARCH', 'normal', 0)</th>\n",
              "      <th>('FIGARCH', 'normal', 1)</th>\n",
              "      <th>('FIGARCH', 'gaussian', 0)</th>\n",
              "      <th>('FIGARCH', 'gaussian', 1)</th>\n",
              "      <th>vix</th>\n",
              "      <th>inflation_rate</th>\n",
              "      <th>unemployment_rate</th>\n",
              "      <th>usd_gbp</th>\n",
              "      <th>usd_cny</th>\n",
              "      <th>usd_mxn</th>\n",
              "      <th>gt_data</th>\n",
              "      <th>GKV</th>\n",
              "    </tr>\n",
              "    <tr>\n",
              "      <th>Date</th>\n",
              "      <th></th>\n",
              "      <th></th>\n",
              "      <th></th>\n",
              "      <th></th>\n",
              "      <th></th>\n",
              "      <th></th>\n",
              "      <th></th>\n",
              "      <th></th>\n",
              "      <th></th>\n",
              "      <th></th>\n",
              "      <th></th>\n",
              "      <th></th>\n",
              "      <th></th>\n",
              "      <th></th>\n",
              "      <th></th>\n",
              "      <th></th>\n",
              "      <th></th>\n",
              "      <th></th>\n",
              "      <th></th>\n",
              "    </tr>\n",
              "  </thead>\n",
              "  <tbody>\n",
              "    <tr>\n",
              "      <th>2000-02-02</th>\n",
              "      <td>0.000077</td>\n",
              "      <td>-0.001864</td>\n",
              "      <td>-0.001725</td>\n",
              "      <td>-0.001864</td>\n",
              "      <td>-0.001725</td>\n",
              "      <td>-0.001971</td>\n",
              "      <td>-0.001822</td>\n",
              "      <td>-0.001782</td>\n",
              "      <td>-0.001782</td>\n",
              "      <td>-0.001782</td>\n",
              "      <td>-0.001782</td>\n",
              "      <td>-5074.430765</td>\n",
              "      <td>-280507.141339</td>\n",
              "      <td>-164.888872</td>\n",
              "      <td>-25.204908</td>\n",
              "      <td>-667.139276</td>\n",
              "      <td>-870.717996</td>\n",
              "      <td>-53308.067923</td>\n",
              "      <td>-0.001784</td>\n",
              "    </tr>\n",
              "    <tr>\n",
              "      <th>2000-02-03</th>\n",
              "      <td>0.000020</td>\n",
              "      <td>-0.001554</td>\n",
              "      <td>-0.001557</td>\n",
              "      <td>-0.001554</td>\n",
              "      <td>-0.001557</td>\n",
              "      <td>-0.001745</td>\n",
              "      <td>-0.001612</td>\n",
              "      <td>-0.001519</td>\n",
              "      <td>-0.001519</td>\n",
              "      <td>-0.001519</td>\n",
              "      <td>-0.001519</td>\n",
              "      <td>-4871.204473</td>\n",
              "      <td>-260330.361056</td>\n",
              "      <td>-152.205474</td>\n",
              "      <td>-23.159152</td>\n",
              "      <td>-618.146493</td>\n",
              "      <td>-799.604126</td>\n",
              "      <td>-49391.829352</td>\n",
              "      <td>-0.001577</td>\n",
              "    </tr>\n",
              "    <tr>\n",
              "      <th>2000-02-04</th>\n",
              "      <td>0.000152</td>\n",
              "      <td>-0.001080</td>\n",
              "      <td>-0.001163</td>\n",
              "      <td>-0.001080</td>\n",
              "      <td>-0.001163</td>\n",
              "      <td>-0.001302</td>\n",
              "      <td>-0.001217</td>\n",
              "      <td>-0.001076</td>\n",
              "      <td>-0.001076</td>\n",
              "      <td>-0.001076</td>\n",
              "      <td>-0.001076</td>\n",
              "      <td>-3989.985998</td>\n",
              "      <td>-200834.042712</td>\n",
              "      <td>-116.610418</td>\n",
              "      <td>-17.659121</td>\n",
              "      <td>-475.895763</td>\n",
              "      <td>-610.423502</td>\n",
              "      <td>-38026.991031</td>\n",
              "      <td>-0.001162</td>\n",
              "    </tr>\n",
              "    <tr>\n",
              "      <th>2000-02-07</th>\n",
              "      <td>0.000090</td>\n",
              "      <td>-0.000627</td>\n",
              "      <td>-0.000738</td>\n",
              "      <td>-0.000627</td>\n",
              "      <td>-0.000738</td>\n",
              "      <td>-0.000863</td>\n",
              "      <td>-0.000784</td>\n",
              "      <td>-0.000678</td>\n",
              "      <td>-0.000678</td>\n",
              "      <td>-0.000678</td>\n",
              "      <td>-0.000678</td>\n",
              "      <td>-2979.521889</td>\n",
              "      <td>-136734.041748</td>\n",
              "      <td>-78.602644</td>\n",
              "      <td>-11.749618</td>\n",
              "      <td>-322.833213</td>\n",
              "      <td>-410.827912</td>\n",
              "      <td>-25799.214705</td>\n",
              "      <td>-0.000757</td>\n",
              "    </tr>\n",
              "    <tr>\n",
              "      <th>2000-02-08</th>\n",
              "      <td>-0.000335</td>\n",
              "      <td>-0.000202</td>\n",
              "      <td>-0.000335</td>\n",
              "      <td>-0.000202</td>\n",
              "      <td>-0.000335</td>\n",
              "      <td>-0.000364</td>\n",
              "      <td>-0.000368</td>\n",
              "      <td>-0.000311</td>\n",
              "      <td>-0.000311</td>\n",
              "      <td>-0.000311</td>\n",
              "      <td>-0.000311</td>\n",
              "      <td>-1886.674367</td>\n",
              "      <td>-78129.198414</td>\n",
              "      <td>-43.682933</td>\n",
              "      <td>-6.356898</td>\n",
              "      <td>-182.858321</td>\n",
              "      <td>-230.130383</td>\n",
              "      <td>-14616.177002</td>\n",
              "      <td>-0.000370</td>\n",
              "    </tr>\n",
              "    <tr>\n",
              "      <th>...</th>\n",
              "      <td>...</td>\n",
              "      <td>...</td>\n",
              "      <td>...</td>\n",
              "      <td>...</td>\n",
              "      <td>...</td>\n",
              "      <td>...</td>\n",
              "      <td>...</td>\n",
              "      <td>...</td>\n",
              "      <td>...</td>\n",
              "      <td>...</td>\n",
              "      <td>...</td>\n",
              "      <td>...</td>\n",
              "      <td>...</td>\n",
              "      <td>...</td>\n",
              "      <td>...</td>\n",
              "      <td>...</td>\n",
              "      <td>...</td>\n",
              "      <td>...</td>\n",
              "      <td>...</td>\n",
              "    </tr>\n",
              "    <tr>\n",
              "      <th>2024-08-26</th>\n",
              "      <td>-0.000161</td>\n",
              "      <td>-0.000358</td>\n",
              "      <td>-0.000493</td>\n",
              "      <td>-0.000358</td>\n",
              "      <td>-0.000493</td>\n",
              "      <td>-0.001023</td>\n",
              "      <td>-0.000502</td>\n",
              "      <td>-0.000690</td>\n",
              "      <td>-0.000690</td>\n",
              "      <td>-0.000690</td>\n",
              "      <td>-0.000690</td>\n",
              "      <td>-118.886061</td>\n",
              "      <td>367959.138182</td>\n",
              "      <td>65.925473</td>\n",
              "      <td>7.151391</td>\n",
              "      <td>185.257251</td>\n",
              "      <td>1524.776491</td>\n",
              "      <td>16.790559</td>\n",
              "      <td>0.000297</td>\n",
              "    </tr>\n",
              "    <tr>\n",
              "      <th>2024-08-27</th>\n",
              "      <td>-0.000193</td>\n",
              "      <td>-0.000694</td>\n",
              "      <td>-0.000707</td>\n",
              "      <td>-0.000694</td>\n",
              "      <td>-0.000707</td>\n",
              "      <td>-0.001244</td>\n",
              "      <td>-0.000717</td>\n",
              "      <td>-0.000899</td>\n",
              "      <td>-0.000899</td>\n",
              "      <td>-0.000899</td>\n",
              "      <td>-0.000899</td>\n",
              "      <td>-381.296847</td>\n",
              "      <td>157132.066741</td>\n",
              "      <td>28.527492</td>\n",
              "      <td>3.476358</td>\n",
              "      <td>76.788614</td>\n",
              "      <td>774.080957</td>\n",
              "      <td>-3946.268810</td>\n",
              "      <td>0.000028</td>\n",
              "    </tr>\n",
              "    <tr>\n",
              "      <th>2024-08-28</th>\n",
              "      <td>-0.000154</td>\n",
              "      <td>-0.000954</td>\n",
              "      <td>-0.000846</td>\n",
              "      <td>-0.000954</td>\n",
              "      <td>-0.000846</td>\n",
              "      <td>-0.001311</td>\n",
              "      <td>-0.000852</td>\n",
              "      <td>-0.001012</td>\n",
              "      <td>-0.001012</td>\n",
              "      <td>-0.001012</td>\n",
              "      <td>-0.001012</td>\n",
              "      <td>-746.562442</td>\n",
              "      <td>-97335.136463</td>\n",
              "      <td>-16.834312</td>\n",
              "      <td>-1.072689</td>\n",
              "      <td>-53.866326</td>\n",
              "      <td>-172.154813</td>\n",
              "      <td>-8749.025243</td>\n",
              "      <td>-0.000257</td>\n",
              "    </tr>\n",
              "    <tr>\n",
              "      <th>2024-08-29</th>\n",
              "      <td>-0.000150</td>\n",
              "      <td>-0.001147</td>\n",
              "      <td>-0.000937</td>\n",
              "      <td>-0.001147</td>\n",
              "      <td>-0.000937</td>\n",
              "      <td>-0.001324</td>\n",
              "      <td>-0.000933</td>\n",
              "      <td>-0.001067</td>\n",
              "      <td>-0.001067</td>\n",
              "      <td>-0.001067</td>\n",
              "      <td>-0.001067</td>\n",
              "      <td>-1297.880813</td>\n",
              "      <td>-399769.471316</td>\n",
              "      <td>-70.858623</td>\n",
              "      <td>-6.550484</td>\n",
              "      <td>-208.826493</td>\n",
              "      <td>-1344.291544</td>\n",
              "      <td>-14935.055801</td>\n",
              "      <td>-0.000562</td>\n",
              "    </tr>\n",
              "    <tr>\n",
              "      <th>2024-08-30</th>\n",
              "      <td>-0.000129</td>\n",
              "      <td>-0.001232</td>\n",
              "      <td>-0.000923</td>\n",
              "      <td>-0.001232</td>\n",
              "      <td>-0.000923</td>\n",
              "      <td>-0.001267</td>\n",
              "      <td>-0.000919</td>\n",
              "      <td>-0.001030</td>\n",
              "      <td>-0.001030</td>\n",
              "      <td>-0.001030</td>\n",
              "      <td>-0.001030</td>\n",
              "      <td>-1945.559572</td>\n",
              "      <td>-728245.081011</td>\n",
              "      <td>-129.617764</td>\n",
              "      <td>-12.520266</td>\n",
              "      <td>-376.419611</td>\n",
              "      <td>-2657.323913</td>\n",
              "      <td>-22127.779545</td>\n",
              "      <td>-0.000862</td>\n",
              "    </tr>\n",
              "  </tbody>\n",
              "</table>\n",
              "<p>6184 rows × 19 columns</p>\n",
              "</div>\n",
              "    <div class=\"colab-df-buttons\">\n",
              "\n",
              "  <div class=\"colab-df-container\">\n",
              "    <button class=\"colab-df-convert\" onclick=\"convertToInteractive('df-95037ffc-ff89-4827-964b-fd577ff43d47')\"\n",
              "            title=\"Convert this dataframe to an interactive table.\"\n",
              "            style=\"display:none;\">\n",
              "\n",
              "  <svg xmlns=\"http://www.w3.org/2000/svg\" height=\"24px\" viewBox=\"0 -960 960 960\">\n",
              "    <path d=\"M120-120v-720h720v720H120Zm60-500h600v-160H180v160Zm220 220h160v-160H400v160Zm0 220h160v-160H400v160ZM180-400h160v-160H180v160Zm440 0h160v-160H620v160ZM180-180h160v-160H180v160Zm440 0h160v-160H620v160Z\"/>\n",
              "  </svg>\n",
              "    </button>\n",
              "\n",
              "  <style>\n",
              "    .colab-df-container {\n",
              "      display:flex;\n",
              "      gap: 12px;\n",
              "    }\n",
              "\n",
              "    .colab-df-convert {\n",
              "      background-color: #E8F0FE;\n",
              "      border: none;\n",
              "      border-radius: 50%;\n",
              "      cursor: pointer;\n",
              "      display: none;\n",
              "      fill: #1967D2;\n",
              "      height: 32px;\n",
              "      padding: 0 0 0 0;\n",
              "      width: 32px;\n",
              "    }\n",
              "\n",
              "    .colab-df-convert:hover {\n",
              "      background-color: #E2EBFA;\n",
              "      box-shadow: 0px 1px 2px rgba(60, 64, 67, 0.3), 0px 1px 3px 1px rgba(60, 64, 67, 0.15);\n",
              "      fill: #174EA6;\n",
              "    }\n",
              "\n",
              "    .colab-df-buttons div {\n",
              "      margin-bottom: 4px;\n",
              "    }\n",
              "\n",
              "    [theme=dark] .colab-df-convert {\n",
              "      background-color: #3B4455;\n",
              "      fill: #D2E3FC;\n",
              "    }\n",
              "\n",
              "    [theme=dark] .colab-df-convert:hover {\n",
              "      background-color: #434B5C;\n",
              "      box-shadow: 0px 1px 3px 1px rgba(0, 0, 0, 0.15);\n",
              "      filter: drop-shadow(0px 1px 2px rgba(0, 0, 0, 0.3));\n",
              "      fill: #FFFFFF;\n",
              "    }\n",
              "  </style>\n",
              "\n",
              "    <script>\n",
              "      const buttonEl =\n",
              "        document.querySelector('#df-95037ffc-ff89-4827-964b-fd577ff43d47 button.colab-df-convert');\n",
              "      buttonEl.style.display =\n",
              "        google.colab.kernel.accessAllowed ? 'block' : 'none';\n",
              "\n",
              "      async function convertToInteractive(key) {\n",
              "        const element = document.querySelector('#df-95037ffc-ff89-4827-964b-fd577ff43d47');\n",
              "        const dataTable =\n",
              "          await google.colab.kernel.invokeFunction('convertToInteractive',\n",
              "                                                    [key], {});\n",
              "        if (!dataTable) return;\n",
              "\n",
              "        const docLinkHtml = 'Like what you see? Visit the ' +\n",
              "          '<a target=\"_blank\" href=https://colab.research.google.com/notebooks/data_table.ipynb>data table notebook</a>'\n",
              "          + ' to learn more about interactive tables.';\n",
              "        element.innerHTML = '';\n",
              "        dataTable['output_type'] = 'display_data';\n",
              "        await google.colab.output.renderOutput(dataTable, element);\n",
              "        const docLink = document.createElement('div');\n",
              "        docLink.innerHTML = docLinkHtml;\n",
              "        element.appendChild(docLink);\n",
              "      }\n",
              "    </script>\n",
              "  </div>\n",
              "\n",
              "\n",
              "<div id=\"df-1ccea2da-ad27-4490-9962-11f884409e24\">\n",
              "  <button class=\"colab-df-quickchart\" onclick=\"quickchart('df-1ccea2da-ad27-4490-9962-11f884409e24')\"\n",
              "            title=\"Suggest charts\"\n",
              "            style=\"display:none;\">\n",
              "\n",
              "<svg xmlns=\"http://www.w3.org/2000/svg\" height=\"24px\"viewBox=\"0 0 24 24\"\n",
              "     width=\"24px\">\n",
              "    <g>\n",
              "        <path d=\"M19 3H5c-1.1 0-2 .9-2 2v14c0 1.1.9 2 2 2h14c1.1 0 2-.9 2-2V5c0-1.1-.9-2-2-2zM9 17H7v-7h2v7zm4 0h-2V7h2v10zm4 0h-2v-4h2v4z\"/>\n",
              "    </g>\n",
              "</svg>\n",
              "  </button>\n",
              "\n",
              "<style>\n",
              "  .colab-df-quickchart {\n",
              "      --bg-color: #E8F0FE;\n",
              "      --fill-color: #1967D2;\n",
              "      --hover-bg-color: #E2EBFA;\n",
              "      --hover-fill-color: #174EA6;\n",
              "      --disabled-fill-color: #AAA;\n",
              "      --disabled-bg-color: #DDD;\n",
              "  }\n",
              "\n",
              "  [theme=dark] .colab-df-quickchart {\n",
              "      --bg-color: #3B4455;\n",
              "      --fill-color: #D2E3FC;\n",
              "      --hover-bg-color: #434B5C;\n",
              "      --hover-fill-color: #FFFFFF;\n",
              "      --disabled-bg-color: #3B4455;\n",
              "      --disabled-fill-color: #666;\n",
              "  }\n",
              "\n",
              "  .colab-df-quickchart {\n",
              "    background-color: var(--bg-color);\n",
              "    border: none;\n",
              "    border-radius: 50%;\n",
              "    cursor: pointer;\n",
              "    display: none;\n",
              "    fill: var(--fill-color);\n",
              "    height: 32px;\n",
              "    padding: 0;\n",
              "    width: 32px;\n",
              "  }\n",
              "\n",
              "  .colab-df-quickchart:hover {\n",
              "    background-color: var(--hover-bg-color);\n",
              "    box-shadow: 0 1px 2px rgba(60, 64, 67, 0.3), 0 1px 3px 1px rgba(60, 64, 67, 0.15);\n",
              "    fill: var(--button-hover-fill-color);\n",
              "  }\n",
              "\n",
              "  .colab-df-quickchart-complete:disabled,\n",
              "  .colab-df-quickchart-complete:disabled:hover {\n",
              "    background-color: var(--disabled-bg-color);\n",
              "    fill: var(--disabled-fill-color);\n",
              "    box-shadow: none;\n",
              "  }\n",
              "\n",
              "  .colab-df-spinner {\n",
              "    border: 2px solid var(--fill-color);\n",
              "    border-color: transparent;\n",
              "    border-bottom-color: var(--fill-color);\n",
              "    animation:\n",
              "      spin 1s steps(1) infinite;\n",
              "  }\n",
              "\n",
              "  @keyframes spin {\n",
              "    0% {\n",
              "      border-color: transparent;\n",
              "      border-bottom-color: var(--fill-color);\n",
              "      border-left-color: var(--fill-color);\n",
              "    }\n",
              "    20% {\n",
              "      border-color: transparent;\n",
              "      border-left-color: var(--fill-color);\n",
              "      border-top-color: var(--fill-color);\n",
              "    }\n",
              "    30% {\n",
              "      border-color: transparent;\n",
              "      border-left-color: var(--fill-color);\n",
              "      border-top-color: var(--fill-color);\n",
              "      border-right-color: var(--fill-color);\n",
              "    }\n",
              "    40% {\n",
              "      border-color: transparent;\n",
              "      border-right-color: var(--fill-color);\n",
              "      border-top-color: var(--fill-color);\n",
              "    }\n",
              "    60% {\n",
              "      border-color: transparent;\n",
              "      border-right-color: var(--fill-color);\n",
              "    }\n",
              "    80% {\n",
              "      border-color: transparent;\n",
              "      border-right-color: var(--fill-color);\n",
              "      border-bottom-color: var(--fill-color);\n",
              "    }\n",
              "    90% {\n",
              "      border-color: transparent;\n",
              "      border-bottom-color: var(--fill-color);\n",
              "    }\n",
              "  }\n",
              "</style>\n",
              "\n",
              "  <script>\n",
              "    async function quickchart(key) {\n",
              "      const quickchartButtonEl =\n",
              "        document.querySelector('#' + key + ' button');\n",
              "      quickchartButtonEl.disabled = true;  // To prevent multiple clicks.\n",
              "      quickchartButtonEl.classList.add('colab-df-spinner');\n",
              "      try {\n",
              "        const charts = await google.colab.kernel.invokeFunction(\n",
              "            'suggestCharts', [key], {});\n",
              "      } catch (error) {\n",
              "        console.error('Error during call to suggestCharts:', error);\n",
              "      }\n",
              "      quickchartButtonEl.classList.remove('colab-df-spinner');\n",
              "      quickchartButtonEl.classList.add('colab-df-quickchart-complete');\n",
              "    }\n",
              "    (() => {\n",
              "      let quickchartButtonEl =\n",
              "        document.querySelector('#df-1ccea2da-ad27-4490-9962-11f884409e24 button');\n",
              "      quickchartButtonEl.style.display =\n",
              "        google.colab.kernel.accessAllowed ? 'block' : 'none';\n",
              "    })();\n",
              "  </script>\n",
              "</div>\n",
              "    </div>\n",
              "  </div>\n"
            ],
            "application/vnd.google.colaboratory.intrinsic+json": {
              "type": "dataframe",
              "variable_name": "HV_data",
              "summary": "{\n  \"name\": \"HV_data\",\n  \"rows\": 6184,\n  \"fields\": [\n    {\n      \"column\": \"Date\",\n      \"properties\": {\n        \"dtype\": \"date\",\n        \"min\": \"2000-02-02 00:00:00\",\n        \"max\": \"2024-08-30 00:00:00\",\n        \"num_unique_values\": 6184,\n        \"samples\": [\n          \"2021-11-18 00:00:00\",\n          \"2016-05-12 00:00:00\",\n          \"2020-09-03 00:00:00\"\n        ],\n        \"semantic_type\": \"\",\n        \"description\": \"\"\n      }\n    },\n    {\n      \"column\": \"log_returns\",\n      \"properties\": {\n        \"dtype\": \"number\",\n        \"std\": 0.0009648019919225629,\n        \"min\": -0.0154354460668793,\n        \"max\": 0.0126865949654366,\n        \"num_unique_values\": 6184,\n        \"samples\": [\n          0.0001628402851209,\n          -8.746858572785523e-05,\n          -0.0008952318382649\n        ],\n        \"semantic_type\": \"\",\n        \"description\": \"\"\n      }\n    },\n    {\n      \"column\": \"('GARCH', 'normal', 0)\",\n      \"properties\": {\n        \"dtype\": \"number\",\n        \"std\": 0.0010840926437869298,\n        \"min\": -0.0139145487816452,\n        \"max\": 0.0313539597803747,\n        \"num_unique_values\": 6184,\n        \"samples\": [\n          0.0006467445895229,\n          3.086619848237932e-06,\n          -0.0011997261820151\n        ],\n        \"semantic_type\": \"\",\n        \"description\": \"\"\n      }\n    },\n    {\n      \"column\": \"('GARCH', 'normal', 1)\",\n      \"properties\": {\n        \"dtype\": \"number\",\n        \"std\": 0.0014601292763678525,\n        \"min\": -0.018872084416292,\n        \"max\": 0.0484844973091941,\n        \"num_unique_values\": 6184,\n        \"samples\": [\n          0.0005237948929504,\n          8.505600743886686e-06,\n          -0.0010951341787298\n        ],\n        \"semantic_type\": \"\",\n        \"description\": \"\"\n      }\n    },\n    {\n      \"column\": \"('GARCH', 'gaussian', 0)\",\n      \"properties\": {\n        \"dtype\": \"number\",\n        \"std\": 0.0010840926437869298,\n        \"min\": -0.0139145487816452,\n        \"max\": 0.0313539597803747,\n        \"num_unique_values\": 6184,\n        \"samples\": [\n          0.0006467445895229,\n          3.086619848237932e-06,\n          -0.0011997261820151\n        ],\n        \"semantic_type\": \"\",\n        \"description\": \"\"\n      }\n    },\n    {\n      \"column\": \"('GARCH', 'gaussian', 1)\",\n      \"properties\": {\n        \"dtype\": \"number\",\n        \"std\": 0.0014601292763678525,\n        \"min\": -0.018872084416292,\n        \"max\": 0.0484844973091941,\n        \"num_unique_values\": 6184,\n        \"samples\": [\n          0.0005237948929504,\n          8.505600743886686e-06,\n          -0.0010951341787298\n        ],\n        \"semantic_type\": \"\",\n        \"description\": \"\"\n      }\n    },\n    {\n      \"column\": \"('GARCH', 'ged', 0)\",\n      \"properties\": {\n        \"dtype\": \"number\",\n        \"std\": 0.001084335179517928,\n        \"min\": -0.01349308964851,\n        \"max\": 0.0291212659398564,\n        \"num_unique_values\": 6184,\n        \"samples\": [\n          0.0006837125935864,\n          -2.265574705191369e-09,\n          -0.0012936334390593\n        ],\n        \"semantic_type\": \"\",\n        \"description\": \"\"\n      }\n    },\n    {\n      \"column\": \"('GARCH', 'ged', 1)\",\n      \"properties\": {\n        \"dtype\": \"number\",\n        \"std\": 0.001245162201750965,\n        \"min\": -0.0152308619442143,\n        \"max\": 0.0339104058735364,\n        \"num_unique_values\": 6184,\n        \"samples\": [\n          0.0005969898493282,\n          2.018506313965131e-06,\n          -0.0012285714967469\n        ],\n        \"semantic_type\": \"\",\n        \"description\": \"\"\n      }\n    },\n    {\n      \"column\": \"('FIGARCH', 'normal', 0)\",\n      \"properties\": {\n        \"dtype\": \"number\",\n        \"std\": 0.0009973269692231104,\n        \"min\": -0.0134531038268778,\n        \"max\": 0.0296227070670571,\n        \"num_unique_values\": 6184,\n        \"samples\": [\n          0.000632831795463,\n          5.007689976999768e-06,\n          -0.0009359679282944\n        ],\n        \"semantic_type\": \"\",\n        \"description\": \"\"\n      }\n    },\n    {\n      \"column\": \"('FIGARCH', 'normal', 1)\",\n      \"properties\": {\n        \"dtype\": \"number\",\n        \"std\": 0.0009973269692231104,\n        \"min\": -0.0134531038268778,\n        \"max\": 0.0296227070670571,\n        \"num_unique_values\": 6184,\n        \"samples\": [\n          0.000632831795463,\n          5.007689976999768e-06,\n          -0.0009359679282944\n        ],\n        \"semantic_type\": \"\",\n        \"description\": \"\"\n      }\n    },\n    {\n      \"column\": \"('FIGARCH', 'gaussian', 0)\",\n      \"properties\": {\n        \"dtype\": \"number\",\n        \"std\": 0.0009973269692231104,\n        \"min\": -0.0134531038268778,\n        \"max\": 0.0296227070670571,\n        \"num_unique_values\": 6184,\n        \"samples\": [\n          0.000632831795463,\n          5.007689976999768e-06,\n          -0.0009359679282944\n        ],\n        \"semantic_type\": \"\",\n        \"description\": \"\"\n      }\n    },\n    {\n      \"column\": \"('FIGARCH', 'gaussian', 1)\",\n      \"properties\": {\n        \"dtype\": \"number\",\n        \"std\": 0.0009973269692231104,\n        \"min\": -0.0134531038268778,\n        \"max\": 0.0296227070670571,\n        \"num_unique_values\": 6184,\n        \"samples\": [\n          0.000632831795463,\n          5.007689976999768e-06,\n          -0.0009359679282944\n        ],\n        \"semantic_type\": \"\",\n        \"description\": \"\"\n      }\n    },\n    {\n      \"column\": \"vix\",\n      \"properties\": {\n        \"dtype\": \"number\",\n        \"std\": 820.6044614928576,\n        \"min\": -10844.982568596944,\n        \"max\": 19071.91151372696,\n        \"num_unique_values\": 6184,\n        \"samples\": [\n          -130.19903334854098,\n          18.17690557133523,\n          159.97487267018028\n        ],\n        \"semantic_type\": \"\",\n        \"description\": \"\"\n      }\n    },\n    {\n      \"column\": \"inflation_rate\",\n      \"properties\": {\n        \"dtype\": \"number\",\n        \"std\": 26912.229428432332,\n        \"min\": -728245.0810109472,\n        \"max\": 584986.7340100529,\n        \"num_unique_values\": 6184,\n        \"samples\": [\n          218.30009175541636,\n          5.287884838917708,\n          20.847595484912336\n        ],\n        \"semantic_type\": \"\",\n        \"description\": \"\"\n      }\n    },\n    {\n      \"column\": \"unemployment_rate\",\n      \"properties\": {\n        \"dtype\": \"number\",\n        \"std\": 33.76257845981759,\n        \"min\": -1093.474573953481,\n        \"max\": 526.0217486984401,\n        \"num_unique_values\": 6184,\n        \"samples\": [\n          0.2677904058055883,\n          0.2140523773564664,\n          1.2024098585822622\n        ],\n        \"semantic_type\": \"\",\n        \"description\": \"\"\n      }\n    },\n    {\n      \"column\": \"usd_gbp\",\n      \"properties\": {\n        \"dtype\": \"number\",\n        \"std\": 0.7001473927474394,\n        \"min\": -25.2049075239532,\n        \"max\": 10.449432959582548,\n        \"num_unique_values\": 6184,\n        \"samples\": [\n          0.0046456258560633,\n          0.0374252137835166,\n          -0.0071794905488897\n        ],\n        \"semantic_type\": \"\",\n        \"description\": \"\"\n      }\n    },\n    {\n      \"column\": \"usd_cny\",\n      \"properties\": {\n        \"dtype\": \"number\",\n        \"std\": 19.68263619528357,\n        \"min\": -667.1392756286452,\n        \"max\": 298.015317711621,\n        \"num_unique_values\": 6184,\n        \"samples\": [\n          0.0590141072523381,\n          0.1013274363811048,\n          0.0579726478810901\n        ],\n        \"semantic_type\": \"\",\n        \"description\": \"\"\n      }\n    },\n    {\n      \"column\": \"usd_mxn\",\n      \"properties\": {\n        \"dtype\": \"number\",\n        \"std\": 96.35571860254191,\n        \"min\": -2657.323913262486,\n        \"max\": 2177.3559175733667,\n        \"num_unique_values\": 6184,\n        \"samples\": [\n          -5.839511408724558,\n          -1.8564624833202088,\n          -1.664127246671436\n        ],\n        \"semantic_type\": \"\",\n        \"description\": \"\"\n      }\n    },\n    {\n      \"column\": \"gt_data\",\n      \"properties\": {\n        \"dtype\": \"number\",\n        \"std\": 2650.5152807983045,\n        \"min\": -53308.06792347897,\n        \"max\": 43613.16083510058,\n        \"num_unique_values\": 5495,\n        \"samples\": [\n          -137.88691928757055,\n          1593.0716101629669,\n          -197.60419276142855\n        ],\n        \"semantic_type\": \"\",\n        \"description\": \"\"\n      }\n    },\n    {\n      \"column\": \"GKV\",\n      \"properties\": {\n        \"dtype\": \"number\",\n        \"std\": 0.0003128582814372526,\n        \"min\": -0.0025067336851228,\n        \"max\": 0.0043568420390713,\n        \"num_unique_values\": 6184,\n        \"samples\": [\n          0.0003424439247265,\n          1.5928920066794835e-06,\n          -0.0001453069405476\n        ],\n        \"semantic_type\": \"\",\n        \"description\": \"\"\n      }\n    }\n  ]\n}"
            }
          },
          "metadata": {},
          "execution_count": 10
        }
      ]
    },
    {
      "cell_type": "markdown",
      "source": [
        "# Split train, validation and test data"
      ],
      "metadata": {
        "id": "yck1rbrVKC8J"
      }
    },
    {
      "cell_type": "code",
      "source": [
        "# def rolling_window_transform(data, in_sample_size, out_of_sample_size):\n",
        "#   total_size = in_sample_size + out_of_sample_size\n",
        "#   in_sample = []\n",
        "#   out_of_sample = []\n",
        "\n",
        "#   for start in range(len(data) - total_size + 1):\n",
        "#     in_sample.append(data.iloc[start : start + in_sample_size])\n",
        "#     out_of_sample.append(data.iloc[start + in_sample_size : start + total_size])\n",
        "\n",
        "#   return np.array(in_sample), np.array(out_of_sample)\n",
        "\n",
        "# in_sample_size = 100\n",
        "# out_of_sample_size = 5\n",
        "\n",
        "# train_in_sample, train_out_of_sample = rolling_window_transform(train_data, in_sample_size, out_of_sample_size)\n",
        "# val_in_sample, val_out_of_sample = rolling_window_transform(val_data, in_sample_size, out_of_sample_size)\n",
        "# test_in_sample, test_out_of_sample = rolling_window_transform(test_data, in_sample_size, out_of_sample_size)"
      ],
      "metadata": {
        "id": "pkmWgAZpvOSO"
      },
      "execution_count": null,
      "outputs": []
    },
    {
      "cell_type": "code",
      "source": [
        "# train_end = datetime(2020, 6, 30)\n",
        "# test_start = datetime(2020, 10, 1)"
      ],
      "metadata": {
        "id": "YEZkofgKFEBV"
      },
      "execution_count": null,
      "outputs": []
    },
    {
      "cell_type": "code",
      "source": [
        "def split_data(data, target, train_end =datetime(2022, 5, 30), test_start=datetime(2022, 5, 31), test_size=0.1):\n",
        "  test_data = data.loc[test_start:]\n",
        "\n",
        "  train_val = data.loc[:train_end]\n",
        "  train_data, val_data = train_test_split(train_val, test_size=test_size, shuffle=False)\n",
        "\n",
        "  X_train = train_data.drop(columns=[target])\n",
        "  y_train = train_data[target]\n",
        "\n",
        "  X_val = val_data.drop(columns=[target])\n",
        "  y_val = val_data[target]\n",
        "\n",
        "  X_test = test_data.drop(columns=[target])\n",
        "  y_test = test_data[target]\n",
        "\n",
        "  return np.array(X_train), np.array(y_train), np.array(X_val), np.array(y_val), np.array(X_test), np.array(y_test)"
      ],
      "metadata": {
        "id": "HOtj9YjcprPF"
      },
      "execution_count": null,
      "outputs": []
    },
    {
      "cell_type": "markdown",
      "source": [
        "# Model"
      ],
      "metadata": {
        "id": "-HpXKIPGyWLh"
      }
    },
    {
      "cell_type": "code",
      "source": [
        "def calculate_mape(actual, predicted):\n",
        "  actual, predicted = np.array(actual), np.array(predicted)\n",
        "  return np.mean(np.abs((actual - predicted) / actual)) * 100"
      ],
      "metadata": {
        "id": "aGvL2RUxqi0U"
      },
      "execution_count": null,
      "outputs": []
    },
    {
      "cell_type": "markdown",
      "source": [
        "## GKV"
      ],
      "metadata": {
        "id": "FICVtfBF2PKI"
      }
    },
    {
      "cell_type": "code",
      "source": [
        "HV_X_train, HV_y_train, HV_X_val, HV_y_val, HV_X_test, HV_y_test = split_data(HV_data, 'GKV')"
      ],
      "metadata": {
        "id": "vZPz8Xs02P-0"
      },
      "execution_count": null,
      "outputs": []
    },
    {
      "cell_type": "code",
      "source": [
        "def esn_model(params, X_train, y_train, X_val):\n",
        "  n_reservoir, spectral_radius, sparsity = int(params[0]), params[1], params[2]\n",
        "  n_inputs = X_train.shape[1]\n",
        "  n_outputs = 1\n",
        "\n",
        "  esn = ESN(n_inputs=n_inputs, n_reservoir=n_reservoir, n_outputs=n_outputs, spectral_radius=spectral_radius, sparsity=sparsity)\n",
        "  esn.fit(X_train, y_train)\n",
        "\n",
        "  # Predict on validation data (for validation performance evaluation)\n",
        "  pred_val = esn.predict(X_val)\n",
        "\n",
        "  return pred_val"
      ],
      "metadata": {
        "id": "M3Rt6bg9yX7K"
      },
      "execution_count": null,
      "outputs": []
    },
    {
      "cell_type": "code",
      "source": [
        "def pso_objective(params):\n",
        "  val_pred = esn_model(params, HV_X_train, HV_y_train, HV_X_val)\n",
        "  loss = mean_squared_error(HV_y_val, val_pred)\n",
        "\n",
        "  return loss"
      ],
      "metadata": {
        "id": "0_iM1wKfLtUM"
      },
      "execution_count": null,
      "outputs": []
    },
    {
      "cell_type": "code",
      "source": [
        "# Initialize bounds for the parameters\n",
        "lb = [10, 0.1, 0.01]  # Lower bounds for n_reservoir, spectral_radius, sparsity\n",
        "ub = [500, 1.0, 0.5]  # Upper bounds for n_reservoir, spectral_radius, sparsity\n",
        "swarmsize = 50\n",
        "maxiter = 100"
      ],
      "metadata": {
        "id": "OA6HjolRLtZK"
      },
      "execution_count": null,
      "outputs": []
    },
    {
      "cell_type": "code",
      "source": [
        "optimal_params, _ = pso(pso_objective, lb, ub, swarmsize=swarmsize, maxiter=maxiter)"
      ],
      "metadata": {
        "id": "IKQyHAYwLw_Z",
        "colab": {
          "base_uri": "https://localhost:8080/"
        },
        "outputId": "a40b8425-ccc1-4eaa-f282-11160947a71c"
      },
      "execution_count": null,
      "outputs": [
        {
          "output_type": "stream",
          "name": "stdout",
          "text": [
            "Stopping search: Swarm best objective change less than 1e-08\n"
          ]
        }
      ]
    },
    {
      "cell_type": "code",
      "source": [
        "optimal_params"
      ],
      "metadata": {
        "colab": {
          "base_uri": "https://localhost:8080/"
        },
        "id": "vrcCZ3deR0CF",
        "outputId": "96724696-163e-444a-9c7c-a4ca068914e8"
      },
      "execution_count": null,
      "outputs": [
        {
          "output_type": "execute_result",
          "data": {
            "text/plain": [
              "array([10.       ,  1.       ,  0.3673553])"
            ]
          },
          "metadata": {},
          "execution_count": 20
        }
      ]
    },
    {
      "cell_type": "code",
      "source": [
        "# optimal_params = [15.33666401, 0.55139579, 0.08210653]"
      ],
      "metadata": {
        "id": "ACC3nYR09PZx"
      },
      "execution_count": null,
      "outputs": []
    },
    {
      "cell_type": "code",
      "source": [
        "# Train and predict with optimal parameters\n",
        "HV_test_predictions = esn_model(optimal_params, HV_X_train, HV_y_train, HV_X_test)"
      ],
      "metadata": {
        "id": "4HJT31OJz6hV"
      },
      "execution_count": null,
      "outputs": []
    },
    {
      "cell_type": "code",
      "source": [
        "HV_test_predictions.shape"
      ],
      "metadata": {
        "id": "v2VCaQRb1lSt",
        "colab": {
          "base_uri": "https://localhost:8080/"
        },
        "outputId": "4e867c94-6b45-4298-b221-6d48f9dcd0c0"
      },
      "execution_count": null,
      "outputs": [
        {
          "output_type": "execute_result",
          "data": {
            "text/plain": [
              "(567, 1)"
            ]
          },
          "metadata": {},
          "execution_count": 23
        }
      ]
    },
    {
      "cell_type": "code",
      "source": [
        "HV_y_test.shape"
      ],
      "metadata": {
        "id": "WS96VoqO1pPx",
        "colab": {
          "base_uri": "https://localhost:8080/"
        },
        "outputId": "295ec544-4f0c-41ad-ef18-16ab28cc0773"
      },
      "execution_count": null,
      "outputs": [
        {
          "output_type": "execute_result",
          "data": {
            "text/plain": [
              "(567,)"
            ]
          },
          "metadata": {},
          "execution_count": 24
        }
      ]
    },
    {
      "cell_type": "code",
      "source": [
        "mse = mean_squared_error(HV_y_test, HV_test_predictions)\n",
        "print(f'MSE: {mse}')\n",
        "\n",
        "rmse = np.sqrt(mse)\n",
        "print(f'RMSE: {rmse}')\n",
        "\n",
        "mae = mean_absolute_error(HV_y_test, HV_test_predictions)\n",
        "print(f'MAE: {mae}')\n",
        "\n",
        "mape = calculate_mape(HV_y_test, HV_test_predictions)\n",
        "print(f'MAPE: {mape}%')"
      ],
      "metadata": {
        "id": "9ukbcwKO0oaO",
        "colab": {
          "base_uri": "https://localhost:8080/"
        },
        "outputId": "408d138e-40d8-4574-85fa-329be60b90d3"
      },
      "execution_count": null,
      "outputs": [
        {
          "output_type": "stream",
          "name": "stdout",
          "text": [
            "MSE: 9.688003103401305e-07\n",
            "RMSE: 0.0009842765415980057\n",
            "MAE: 0.00041304478977590055\n",
            "MAPE: 359247.99181367934%\n"
          ]
        }
      ]
    },
    {
      "cell_type": "code",
      "source": [
        "# path_1 = '/content/drive/MyDrive/Volatility/New_data_2000_2024/New_predictions/GKV/'\n",
        "\n",
        "# df_pred = pd.DataFrame(HV_test_predictions, columns=['esn_pred'])\n",
        "# filename = 'ESN_pred.csv'\n",
        "# df_pred.to_csv(path_1 + filename)"
      ],
      "metadata": {
        "id": "Uppf1LX2G0aW"
      },
      "execution_count": null,
      "outputs": []
    },
    {
      "cell_type": "code",
      "source": [],
      "metadata": {
        "id": "iHs829OVy35t"
      },
      "execution_count": null,
      "outputs": []
    }
  ]
}
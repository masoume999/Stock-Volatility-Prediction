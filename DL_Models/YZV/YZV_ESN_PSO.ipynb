{
  "cells": [
    {
      "cell_type": "code",
      "execution_count": null,
      "metadata": {
        "colab": {
          "base_uri": "https://localhost:8080/"
        },
        "id": "80b3PWQTFGbZ",
        "outputId": "76d07141-7199-49ae-de62-e811525ae69c"
      },
      "outputs": [
        {
          "output_type": "stream",
          "name": "stdout",
          "text": [
            "Cloning into 'pyESN'...\n",
            "remote: Enumerating objects: 106, done.\u001b[K\n",
            "remote: Total 106 (delta 0), reused 0 (delta 0), pack-reused 106 (from 1)\u001b[K\n",
            "Receiving objects: 100% (106/106), 1.17 MiB | 4.55 MiB/s, done.\n",
            "Resolving deltas: 100% (53/53), done.\n"
          ]
        }
      ],
      "source": [
        "!git clone https://github.com/cknd/pyESN.git"
      ]
    },
    {
      "cell_type": "code",
      "execution_count": null,
      "metadata": {
        "colab": {
          "base_uri": "https://localhost:8080/"
        },
        "id": "Uju7rAdqFKVo",
        "outputId": "0666bce8-8b05-4f5b-899f-0413ff807f74"
      },
      "outputs": [
        {
          "output_type": "stream",
          "name": "stdout",
          "text": [
            "Collecting pyESN\n",
            "  Downloading pyEsn-0.0.2-py3-none-any.whl.metadata (372 bytes)\n",
            "Downloading pyEsn-0.0.2-py3-none-any.whl (2.3 kB)\n",
            "Installing collected packages: pyESN\n",
            "Successfully installed pyESN-0.0.2\n"
          ]
        }
      ],
      "source": [
        "!pip install pyESN"
      ]
    },
    {
      "cell_type": "code",
      "execution_count": null,
      "metadata": {
        "colab": {
          "base_uri": "https://localhost:8080/"
        },
        "id": "MEhAVI-yFNCa",
        "outputId": "351d171b-a808-43c6-bb67-92daee041583"
      },
      "outputs": [
        {
          "output_type": "stream",
          "name": "stdout",
          "text": [
            "Collecting pyswarm\n",
            "  Downloading pyswarm-0.6.tar.gz (4.3 kB)\n",
            "  Preparing metadata (setup.py) ... \u001b[?25l\u001b[?25hdone\n",
            "Requirement already satisfied: numpy in /usr/local/lib/python3.10/dist-packages (from pyswarm) (1.26.4)\n",
            "Building wheels for collected packages: pyswarm\n",
            "  Building wheel for pyswarm (setup.py) ... \u001b[?25l\u001b[?25hdone\n",
            "  Created wheel for pyswarm: filename=pyswarm-0.6-py3-none-any.whl size=4464 sha256=e94db87cc3071b81a1801377c14029f7db39cbcdec9904af421861851b350028\n",
            "  Stored in directory: /root/.cache/pip/wheels/71/67/40/62fa158f497f942277cbab8199b05cb61c571ab324e67ad0d6\n",
            "Successfully built pyswarm\n",
            "Installing collected packages: pyswarm\n",
            "Successfully installed pyswarm-0.6\n"
          ]
        }
      ],
      "source": [
        "!pip install pyswarm"
      ]
    },
    {
      "cell_type": "code",
      "execution_count": null,
      "metadata": {
        "id": "NABhaOS84eQF"
      },
      "outputs": [],
      "source": [
        "import sys\n",
        "sys.path.append('/content/pyESN')"
      ]
    },
    {
      "cell_type": "code",
      "execution_count": null,
      "metadata": {
        "id": "ZlaLYYSQFWTV"
      },
      "outputs": [],
      "source": [
        "from sklearn.metrics import mean_squared_error, mean_absolute_error\n",
        "from sklearn.model_selection import train_test_split\n",
        "from google.colab import drive\n",
        "from datetime import datetime\n",
        "from pyswarm import pso\n",
        "from pyESN import ESN\n",
        "# from pyESN.pyESN import ESN\n",
        "from math import sqrt\n",
        "import pandas as pd\n",
        "import numpy as np"
      ]
    },
    {
      "cell_type": "code",
      "execution_count": null,
      "metadata": {
        "colab": {
          "base_uri": "https://localhost:8080/"
        },
        "id": "z1H8XAuYApqV",
        "outputId": "c3c81586-7e03-40d2-d807-d8e71d4ddb3a"
      },
      "outputs": [
        {
          "output_type": "stream",
          "name": "stdout",
          "text": [
            "Mounted at /content/drive\n"
          ]
        }
      ],
      "source": [
        "drive.mount('/content/drive')\n",
        "path = '/content/drive/MyDrive/Volatility/New_data_2000_2024/Not_normal_wc_real/'"
      ]
    },
    {
      "cell_type": "code",
      "execution_count": null,
      "metadata": {
        "id": "Q4lxDAGTExNt"
      },
      "outputs": [],
      "source": [
        "def set_index(df):\n",
        "  df.index = pd.to_datetime(df['Date'])\n",
        "  df.drop(columns=['Date'], inplace=True)"
      ]
    },
    {
      "cell_type": "code",
      "execution_count": null,
      "metadata": {
        "id": "oPLuK-AU_0hM"
      },
      "outputs": [],
      "source": [
        "filename = 'YZV_data.csv'\n",
        "HV_data = pd.read_csv(path + filename)"
      ]
    },
    {
      "cell_type": "code",
      "execution_count": null,
      "metadata": {
        "id": "9haa7WE-E0H9"
      },
      "outputs": [],
      "source": [
        "set_index(HV_data)"
      ]
    },
    {
      "cell_type": "code",
      "source": [
        "tm_data = HV_data\n",
        "HV_data = HV_data.drop(columns=['YZV'])\n",
        "HV_data['YZV'] = tm_data['YZV']\n",
        "HV_data"
      ],
      "metadata": {
        "colab": {
          "base_uri": "https://localhost:8080/",
          "height": 683
        },
        "id": "mSI9UnhL6QBj",
        "outputId": "ebce6add-d436-4cf3-bbb0-01381d2d4e2c"
      },
      "execution_count": null,
      "outputs": [
        {
          "output_type": "execute_result",
          "data": {
            "text/plain": [
              "                    djia  interest_rate  inflation_rate    gdp_growth  \\\n",
              "Date                                                                    \n",
              "2000-02-02 -1.155684e+09    -312.491742  -280507.141339 -1.021796e+09   \n",
              "2000-02-03 -1.038337e+09    -294.152654  -260330.361056 -9.471128e+08   \n",
              "2000-02-04 -7.639965e+08    -230.976259  -200834.042712 -7.296305e+08   \n",
              "2000-02-07 -4.803768e+08    -161.769260  -136734.041748 -4.955350e+08   \n",
              "2000-02-08 -2.344655e+08     -97.924380   -78129.198414 -2.814042e+08   \n",
              "...                  ...            ...             ...           ...   \n",
              "2024-08-26  7.146629e+09     105.955953   367959.138182  3.061900e+09   \n",
              "2024-08-27  3.522269e+09      45.289956   157132.066741  1.308783e+09   \n",
              "2024-08-28 -9.442316e+08     -27.959101   -97335.136463 -8.079582e+08   \n",
              "2024-08-29 -6.297541e+09    -115.028553  -399769.471316 -3.324079e+09   \n",
              "2024-08-30 -1.214781e+10    -209.604757  -728245.081011 -6.057129e+09   \n",
              "\n",
              "             usd_eur        usd_jpy    usd_gbp     usd_cny    usd_cad  \\\n",
              "Date                                                                    \n",
              "2000-02-02 -9.532198 -115483.935741 -25.204908 -667.139276 -20.309269   \n",
              "2000-02-03 -8.790286 -107723.491598 -23.159152 -618.146493 -18.955134   \n",
              "2000-02-04 -6.727301  -83922.602134 -17.659121 -475.895763 -14.738414   \n",
              "2000-02-07 -4.500745  -57854.216936 -11.749618 -322.833213 -10.139957   \n",
              "2000-02-08 -2.468626  -33721.478802  -6.356898 -182.858321  -5.895064   \n",
              "...              ...            ...        ...         ...        ...   \n",
              "2024-08-26  4.906428   75042.327304   7.151391  185.257251   6.351472   \n",
              "2024-08-27  2.221002   29914.845185   3.476358   76.788614   2.415067   \n",
              "2024-08-28 -1.051394  -23800.733155  -1.072689  -53.866326  -2.260864   \n",
              "2024-08-29 -4.935908  -87119.135381  -6.550484 -208.826493  -7.751167   \n",
              "2024-08-30 -9.125420 -155744.602561 -12.520266 -376.419611 -13.673622   \n",
              "\n",
              "                usd_mxn  ...  ('GARCH', 'ged', 0)  ('GARCH', 'ged', 1)  \\\n",
              "Date                     ...                                             \n",
              "2000-02-02  -870.717996  ...            -0.001971            -0.001822   \n",
              "2000-02-03  -799.604126  ...            -0.001745            -0.001612   \n",
              "2000-02-04  -610.423502  ...            -0.001302            -0.001217   \n",
              "2000-02-07  -410.827912  ...            -0.000863            -0.000784   \n",
              "2000-02-08  -230.130383  ...            -0.000364            -0.000368   \n",
              "...                 ...  ...                  ...                  ...   \n",
              "2024-08-26  1524.776491  ...            -0.001023            -0.000502   \n",
              "2024-08-27   774.080957  ...            -0.001244            -0.000717   \n",
              "2024-08-28  -172.154813  ...            -0.001311            -0.000852   \n",
              "2024-08-29 -1344.291544  ...            -0.001324            -0.000933   \n",
              "2024-08-30 -2657.323913  ...            -0.001267            -0.000919   \n",
              "\n",
              "            ('FIGARCH', 'normal', 0)  ('FIGARCH', 'normal', 1)  \\\n",
              "Date                                                             \n",
              "2000-02-02                 -0.001782                 -0.001782   \n",
              "2000-02-03                 -0.001519                 -0.001519   \n",
              "2000-02-04                 -0.001076                 -0.001076   \n",
              "2000-02-07                 -0.000678                 -0.000678   \n",
              "2000-02-08                 -0.000311                 -0.000311   \n",
              "...                              ...                       ...   \n",
              "2024-08-26                 -0.000690                 -0.000690   \n",
              "2024-08-27                 -0.000899                 -0.000899   \n",
              "2024-08-28                 -0.001012                 -0.001012   \n",
              "2024-08-29                 -0.001067                 -0.001067   \n",
              "2024-08-30                 -0.001030                 -0.001030   \n",
              "\n",
              "            ('FIGARCH', 'gaussian', 0)  ('FIGARCH', 'gaussian', 1)  \\\n",
              "Date                                                                 \n",
              "2000-02-02                   -0.001782                   -0.001782   \n",
              "2000-02-03                   -0.001519                   -0.001519   \n",
              "2000-02-04                   -0.001076                   -0.001076   \n",
              "2000-02-07                   -0.000678                   -0.000678   \n",
              "2000-02-08                   -0.000311                   -0.000311   \n",
              "...                                ...                         ...   \n",
              "2024-08-26                   -0.000690                   -0.000690   \n",
              "2024-08-27                   -0.000899                   -0.000899   \n",
              "2024-08-28                   -0.001012                   -0.001012   \n",
              "2024-08-29                   -0.001067                   -0.001067   \n",
              "2024-08-30                   -0.001030                   -0.001030   \n",
              "\n",
              "                    gold          vix  unemployment_rate       YZV  \n",
              "Date                                                                \n",
              "2000-02-02 -7.303430e+05 -5074.430765        -164.888872 -0.098637  \n",
              "2000-02-03 -6.766794e+05 -4871.204473        -152.205474 -0.089867  \n",
              "2000-02-04 -5.209539e+05 -3989.985998        -116.610418 -0.068001  \n",
              "2000-02-07 -3.535870e+05 -2979.521889         -78.602644 -0.045380  \n",
              "2000-02-08 -2.003376e+05 -1886.674367         -43.682933 -0.024180  \n",
              "...                  ...          ...                ...       ...  \n",
              "2024-08-26  2.575879e+07  -118.886061          65.925473  0.026248  \n",
              "2024-08-27  1.201494e+07  -381.296847          28.527492  0.006282  \n",
              "2024-08-28 -4.676237e+06  -746.562442         -16.834312 -0.015856  \n",
              "2024-08-29 -2.454865e+07 -1297.880813         -70.858623 -0.040485  \n",
              "2024-08-30 -4.608846e+07 -1945.559572        -129.617764 -0.065823  \n",
              "\n",
              "[6184 rows x 24 columns]"
            ],
            "text/html": [
              "\n",
              "  <div id=\"df-a11b6d46-ec83-416f-ab8b-0a24125869da\" class=\"colab-df-container\">\n",
              "    <div>\n",
              "<style scoped>\n",
              "    .dataframe tbody tr th:only-of-type {\n",
              "        vertical-align: middle;\n",
              "    }\n",
              "\n",
              "    .dataframe tbody tr th {\n",
              "        vertical-align: top;\n",
              "    }\n",
              "\n",
              "    .dataframe thead th {\n",
              "        text-align: right;\n",
              "    }\n",
              "</style>\n",
              "<table border=\"1\" class=\"dataframe\">\n",
              "  <thead>\n",
              "    <tr style=\"text-align: right;\">\n",
              "      <th></th>\n",
              "      <th>djia</th>\n",
              "      <th>interest_rate</th>\n",
              "      <th>inflation_rate</th>\n",
              "      <th>gdp_growth</th>\n",
              "      <th>usd_eur</th>\n",
              "      <th>usd_jpy</th>\n",
              "      <th>usd_gbp</th>\n",
              "      <th>usd_cny</th>\n",
              "      <th>usd_cad</th>\n",
              "      <th>usd_mxn</th>\n",
              "      <th>...</th>\n",
              "      <th>('GARCH', 'ged', 0)</th>\n",
              "      <th>('GARCH', 'ged', 1)</th>\n",
              "      <th>('FIGARCH', 'normal', 0)</th>\n",
              "      <th>('FIGARCH', 'normal', 1)</th>\n",
              "      <th>('FIGARCH', 'gaussian', 0)</th>\n",
              "      <th>('FIGARCH', 'gaussian', 1)</th>\n",
              "      <th>gold</th>\n",
              "      <th>vix</th>\n",
              "      <th>unemployment_rate</th>\n",
              "      <th>YZV</th>\n",
              "    </tr>\n",
              "    <tr>\n",
              "      <th>Date</th>\n",
              "      <th></th>\n",
              "      <th></th>\n",
              "      <th></th>\n",
              "      <th></th>\n",
              "      <th></th>\n",
              "      <th></th>\n",
              "      <th></th>\n",
              "      <th></th>\n",
              "      <th></th>\n",
              "      <th></th>\n",
              "      <th></th>\n",
              "      <th></th>\n",
              "      <th></th>\n",
              "      <th></th>\n",
              "      <th></th>\n",
              "      <th></th>\n",
              "      <th></th>\n",
              "      <th></th>\n",
              "      <th></th>\n",
              "      <th></th>\n",
              "      <th></th>\n",
              "    </tr>\n",
              "  </thead>\n",
              "  <tbody>\n",
              "    <tr>\n",
              "      <th>2000-02-02</th>\n",
              "      <td>-1.155684e+09</td>\n",
              "      <td>-312.491742</td>\n",
              "      <td>-280507.141339</td>\n",
              "      <td>-1.021796e+09</td>\n",
              "      <td>-9.532198</td>\n",
              "      <td>-115483.935741</td>\n",
              "      <td>-25.204908</td>\n",
              "      <td>-667.139276</td>\n",
              "      <td>-20.309269</td>\n",
              "      <td>-870.717996</td>\n",
              "      <td>...</td>\n",
              "      <td>-0.001971</td>\n",
              "      <td>-0.001822</td>\n",
              "      <td>-0.001782</td>\n",
              "      <td>-0.001782</td>\n",
              "      <td>-0.001782</td>\n",
              "      <td>-0.001782</td>\n",
              "      <td>-7.303430e+05</td>\n",
              "      <td>-5074.430765</td>\n",
              "      <td>-164.888872</td>\n",
              "      <td>-0.098637</td>\n",
              "    </tr>\n",
              "    <tr>\n",
              "      <th>2000-02-03</th>\n",
              "      <td>-1.038337e+09</td>\n",
              "      <td>-294.152654</td>\n",
              "      <td>-260330.361056</td>\n",
              "      <td>-9.471128e+08</td>\n",
              "      <td>-8.790286</td>\n",
              "      <td>-107723.491598</td>\n",
              "      <td>-23.159152</td>\n",
              "      <td>-618.146493</td>\n",
              "      <td>-18.955134</td>\n",
              "      <td>-799.604126</td>\n",
              "      <td>...</td>\n",
              "      <td>-0.001745</td>\n",
              "      <td>-0.001612</td>\n",
              "      <td>-0.001519</td>\n",
              "      <td>-0.001519</td>\n",
              "      <td>-0.001519</td>\n",
              "      <td>-0.001519</td>\n",
              "      <td>-6.766794e+05</td>\n",
              "      <td>-4871.204473</td>\n",
              "      <td>-152.205474</td>\n",
              "      <td>-0.089867</td>\n",
              "    </tr>\n",
              "    <tr>\n",
              "      <th>2000-02-04</th>\n",
              "      <td>-7.639965e+08</td>\n",
              "      <td>-230.976259</td>\n",
              "      <td>-200834.042712</td>\n",
              "      <td>-7.296305e+08</td>\n",
              "      <td>-6.727301</td>\n",
              "      <td>-83922.602134</td>\n",
              "      <td>-17.659121</td>\n",
              "      <td>-475.895763</td>\n",
              "      <td>-14.738414</td>\n",
              "      <td>-610.423502</td>\n",
              "      <td>...</td>\n",
              "      <td>-0.001302</td>\n",
              "      <td>-0.001217</td>\n",
              "      <td>-0.001076</td>\n",
              "      <td>-0.001076</td>\n",
              "      <td>-0.001076</td>\n",
              "      <td>-0.001076</td>\n",
              "      <td>-5.209539e+05</td>\n",
              "      <td>-3989.985998</td>\n",
              "      <td>-116.610418</td>\n",
              "      <td>-0.068001</td>\n",
              "    </tr>\n",
              "    <tr>\n",
              "      <th>2000-02-07</th>\n",
              "      <td>-4.803768e+08</td>\n",
              "      <td>-161.769260</td>\n",
              "      <td>-136734.041748</td>\n",
              "      <td>-4.955350e+08</td>\n",
              "      <td>-4.500745</td>\n",
              "      <td>-57854.216936</td>\n",
              "      <td>-11.749618</td>\n",
              "      <td>-322.833213</td>\n",
              "      <td>-10.139957</td>\n",
              "      <td>-410.827912</td>\n",
              "      <td>...</td>\n",
              "      <td>-0.000863</td>\n",
              "      <td>-0.000784</td>\n",
              "      <td>-0.000678</td>\n",
              "      <td>-0.000678</td>\n",
              "      <td>-0.000678</td>\n",
              "      <td>-0.000678</td>\n",
              "      <td>-3.535870e+05</td>\n",
              "      <td>-2979.521889</td>\n",
              "      <td>-78.602644</td>\n",
              "      <td>-0.045380</td>\n",
              "    </tr>\n",
              "    <tr>\n",
              "      <th>2000-02-08</th>\n",
              "      <td>-2.344655e+08</td>\n",
              "      <td>-97.924380</td>\n",
              "      <td>-78129.198414</td>\n",
              "      <td>-2.814042e+08</td>\n",
              "      <td>-2.468626</td>\n",
              "      <td>-33721.478802</td>\n",
              "      <td>-6.356898</td>\n",
              "      <td>-182.858321</td>\n",
              "      <td>-5.895064</td>\n",
              "      <td>-230.130383</td>\n",
              "      <td>...</td>\n",
              "      <td>-0.000364</td>\n",
              "      <td>-0.000368</td>\n",
              "      <td>-0.000311</td>\n",
              "      <td>-0.000311</td>\n",
              "      <td>-0.000311</td>\n",
              "      <td>-0.000311</td>\n",
              "      <td>-2.003376e+05</td>\n",
              "      <td>-1886.674367</td>\n",
              "      <td>-43.682933</td>\n",
              "      <td>-0.024180</td>\n",
              "    </tr>\n",
              "    <tr>\n",
              "      <th>...</th>\n",
              "      <td>...</td>\n",
              "      <td>...</td>\n",
              "      <td>...</td>\n",
              "      <td>...</td>\n",
              "      <td>...</td>\n",
              "      <td>...</td>\n",
              "      <td>...</td>\n",
              "      <td>...</td>\n",
              "      <td>...</td>\n",
              "      <td>...</td>\n",
              "      <td>...</td>\n",
              "      <td>...</td>\n",
              "      <td>...</td>\n",
              "      <td>...</td>\n",
              "      <td>...</td>\n",
              "      <td>...</td>\n",
              "      <td>...</td>\n",
              "      <td>...</td>\n",
              "      <td>...</td>\n",
              "      <td>...</td>\n",
              "      <td>...</td>\n",
              "    </tr>\n",
              "    <tr>\n",
              "      <th>2024-08-26</th>\n",
              "      <td>7.146629e+09</td>\n",
              "      <td>105.955953</td>\n",
              "      <td>367959.138182</td>\n",
              "      <td>3.061900e+09</td>\n",
              "      <td>4.906428</td>\n",
              "      <td>75042.327304</td>\n",
              "      <td>7.151391</td>\n",
              "      <td>185.257251</td>\n",
              "      <td>6.351472</td>\n",
              "      <td>1524.776491</td>\n",
              "      <td>...</td>\n",
              "      <td>-0.001023</td>\n",
              "      <td>-0.000502</td>\n",
              "      <td>-0.000690</td>\n",
              "      <td>-0.000690</td>\n",
              "      <td>-0.000690</td>\n",
              "      <td>-0.000690</td>\n",
              "      <td>2.575879e+07</td>\n",
              "      <td>-118.886061</td>\n",
              "      <td>65.925473</td>\n",
              "      <td>0.026248</td>\n",
              "    </tr>\n",
              "    <tr>\n",
              "      <th>2024-08-27</th>\n",
              "      <td>3.522269e+09</td>\n",
              "      <td>45.289956</td>\n",
              "      <td>157132.066741</td>\n",
              "      <td>1.308783e+09</td>\n",
              "      <td>2.221002</td>\n",
              "      <td>29914.845185</td>\n",
              "      <td>3.476358</td>\n",
              "      <td>76.788614</td>\n",
              "      <td>2.415067</td>\n",
              "      <td>774.080957</td>\n",
              "      <td>...</td>\n",
              "      <td>-0.001244</td>\n",
              "      <td>-0.000717</td>\n",
              "      <td>-0.000899</td>\n",
              "      <td>-0.000899</td>\n",
              "      <td>-0.000899</td>\n",
              "      <td>-0.000899</td>\n",
              "      <td>1.201494e+07</td>\n",
              "      <td>-381.296847</td>\n",
              "      <td>28.527492</td>\n",
              "      <td>0.006282</td>\n",
              "    </tr>\n",
              "    <tr>\n",
              "      <th>2024-08-28</th>\n",
              "      <td>-9.442316e+08</td>\n",
              "      <td>-27.959101</td>\n",
              "      <td>-97335.136463</td>\n",
              "      <td>-8.079582e+08</td>\n",
              "      <td>-1.051394</td>\n",
              "      <td>-23800.733155</td>\n",
              "      <td>-1.072689</td>\n",
              "      <td>-53.866326</td>\n",
              "      <td>-2.260864</td>\n",
              "      <td>-172.154813</td>\n",
              "      <td>...</td>\n",
              "      <td>-0.001311</td>\n",
              "      <td>-0.000852</td>\n",
              "      <td>-0.001012</td>\n",
              "      <td>-0.001012</td>\n",
              "      <td>-0.001012</td>\n",
              "      <td>-0.001012</td>\n",
              "      <td>-4.676237e+06</td>\n",
              "      <td>-746.562442</td>\n",
              "      <td>-16.834312</td>\n",
              "      <td>-0.015856</td>\n",
              "    </tr>\n",
              "    <tr>\n",
              "      <th>2024-08-29</th>\n",
              "      <td>-6.297541e+09</td>\n",
              "      <td>-115.028553</td>\n",
              "      <td>-399769.471316</td>\n",
              "      <td>-3.324079e+09</td>\n",
              "      <td>-4.935908</td>\n",
              "      <td>-87119.135381</td>\n",
              "      <td>-6.550484</td>\n",
              "      <td>-208.826493</td>\n",
              "      <td>-7.751167</td>\n",
              "      <td>-1344.291544</td>\n",
              "      <td>...</td>\n",
              "      <td>-0.001324</td>\n",
              "      <td>-0.000933</td>\n",
              "      <td>-0.001067</td>\n",
              "      <td>-0.001067</td>\n",
              "      <td>-0.001067</td>\n",
              "      <td>-0.001067</td>\n",
              "      <td>-2.454865e+07</td>\n",
              "      <td>-1297.880813</td>\n",
              "      <td>-70.858623</td>\n",
              "      <td>-0.040485</td>\n",
              "    </tr>\n",
              "    <tr>\n",
              "      <th>2024-08-30</th>\n",
              "      <td>-1.214781e+10</td>\n",
              "      <td>-209.604757</td>\n",
              "      <td>-728245.081011</td>\n",
              "      <td>-6.057129e+09</td>\n",
              "      <td>-9.125420</td>\n",
              "      <td>-155744.602561</td>\n",
              "      <td>-12.520266</td>\n",
              "      <td>-376.419611</td>\n",
              "      <td>-13.673622</td>\n",
              "      <td>-2657.323913</td>\n",
              "      <td>...</td>\n",
              "      <td>-0.001267</td>\n",
              "      <td>-0.000919</td>\n",
              "      <td>-0.001030</td>\n",
              "      <td>-0.001030</td>\n",
              "      <td>-0.001030</td>\n",
              "      <td>-0.001030</td>\n",
              "      <td>-4.608846e+07</td>\n",
              "      <td>-1945.559572</td>\n",
              "      <td>-129.617764</td>\n",
              "      <td>-0.065823</td>\n",
              "    </tr>\n",
              "  </tbody>\n",
              "</table>\n",
              "<p>6184 rows × 24 columns</p>\n",
              "</div>\n",
              "    <div class=\"colab-df-buttons\">\n",
              "\n",
              "  <div class=\"colab-df-container\">\n",
              "    <button class=\"colab-df-convert\" onclick=\"convertToInteractive('df-a11b6d46-ec83-416f-ab8b-0a24125869da')\"\n",
              "            title=\"Convert this dataframe to an interactive table.\"\n",
              "            style=\"display:none;\">\n",
              "\n",
              "  <svg xmlns=\"http://www.w3.org/2000/svg\" height=\"24px\" viewBox=\"0 -960 960 960\">\n",
              "    <path d=\"M120-120v-720h720v720H120Zm60-500h600v-160H180v160Zm220 220h160v-160H400v160Zm0 220h160v-160H400v160ZM180-400h160v-160H180v160Zm440 0h160v-160H620v160ZM180-180h160v-160H180v160Zm440 0h160v-160H620v160Z\"/>\n",
              "  </svg>\n",
              "    </button>\n",
              "\n",
              "  <style>\n",
              "    .colab-df-container {\n",
              "      display:flex;\n",
              "      gap: 12px;\n",
              "    }\n",
              "\n",
              "    .colab-df-convert {\n",
              "      background-color: #E8F0FE;\n",
              "      border: none;\n",
              "      border-radius: 50%;\n",
              "      cursor: pointer;\n",
              "      display: none;\n",
              "      fill: #1967D2;\n",
              "      height: 32px;\n",
              "      padding: 0 0 0 0;\n",
              "      width: 32px;\n",
              "    }\n",
              "\n",
              "    .colab-df-convert:hover {\n",
              "      background-color: #E2EBFA;\n",
              "      box-shadow: 0px 1px 2px rgba(60, 64, 67, 0.3), 0px 1px 3px 1px rgba(60, 64, 67, 0.15);\n",
              "      fill: #174EA6;\n",
              "    }\n",
              "\n",
              "    .colab-df-buttons div {\n",
              "      margin-bottom: 4px;\n",
              "    }\n",
              "\n",
              "    [theme=dark] .colab-df-convert {\n",
              "      background-color: #3B4455;\n",
              "      fill: #D2E3FC;\n",
              "    }\n",
              "\n",
              "    [theme=dark] .colab-df-convert:hover {\n",
              "      background-color: #434B5C;\n",
              "      box-shadow: 0px 1px 3px 1px rgba(0, 0, 0, 0.15);\n",
              "      filter: drop-shadow(0px 1px 2px rgba(0, 0, 0, 0.3));\n",
              "      fill: #FFFFFF;\n",
              "    }\n",
              "  </style>\n",
              "\n",
              "    <script>\n",
              "      const buttonEl =\n",
              "        document.querySelector('#df-a11b6d46-ec83-416f-ab8b-0a24125869da button.colab-df-convert');\n",
              "      buttonEl.style.display =\n",
              "        google.colab.kernel.accessAllowed ? 'block' : 'none';\n",
              "\n",
              "      async function convertToInteractive(key) {\n",
              "        const element = document.querySelector('#df-a11b6d46-ec83-416f-ab8b-0a24125869da');\n",
              "        const dataTable =\n",
              "          await google.colab.kernel.invokeFunction('convertToInteractive',\n",
              "                                                    [key], {});\n",
              "        if (!dataTable) return;\n",
              "\n",
              "        const docLinkHtml = 'Like what you see? Visit the ' +\n",
              "          '<a target=\"_blank\" href=https://colab.research.google.com/notebooks/data_table.ipynb>data table notebook</a>'\n",
              "          + ' to learn more about interactive tables.';\n",
              "        element.innerHTML = '';\n",
              "        dataTable['output_type'] = 'display_data';\n",
              "        await google.colab.output.renderOutput(dataTable, element);\n",
              "        const docLink = document.createElement('div');\n",
              "        docLink.innerHTML = docLinkHtml;\n",
              "        element.appendChild(docLink);\n",
              "      }\n",
              "    </script>\n",
              "  </div>\n",
              "\n",
              "\n",
              "<div id=\"df-ff8f143f-0c22-4e9f-bd64-0d4c5b5b07d8\">\n",
              "  <button class=\"colab-df-quickchart\" onclick=\"quickchart('df-ff8f143f-0c22-4e9f-bd64-0d4c5b5b07d8')\"\n",
              "            title=\"Suggest charts\"\n",
              "            style=\"display:none;\">\n",
              "\n",
              "<svg xmlns=\"http://www.w3.org/2000/svg\" height=\"24px\"viewBox=\"0 0 24 24\"\n",
              "     width=\"24px\">\n",
              "    <g>\n",
              "        <path d=\"M19 3H5c-1.1 0-2 .9-2 2v14c0 1.1.9 2 2 2h14c1.1 0 2-.9 2-2V5c0-1.1-.9-2-2-2zM9 17H7v-7h2v7zm4 0h-2V7h2v10zm4 0h-2v-4h2v4z\"/>\n",
              "    </g>\n",
              "</svg>\n",
              "  </button>\n",
              "\n",
              "<style>\n",
              "  .colab-df-quickchart {\n",
              "      --bg-color: #E8F0FE;\n",
              "      --fill-color: #1967D2;\n",
              "      --hover-bg-color: #E2EBFA;\n",
              "      --hover-fill-color: #174EA6;\n",
              "      --disabled-fill-color: #AAA;\n",
              "      --disabled-bg-color: #DDD;\n",
              "  }\n",
              "\n",
              "  [theme=dark] .colab-df-quickchart {\n",
              "      --bg-color: #3B4455;\n",
              "      --fill-color: #D2E3FC;\n",
              "      --hover-bg-color: #434B5C;\n",
              "      --hover-fill-color: #FFFFFF;\n",
              "      --disabled-bg-color: #3B4455;\n",
              "      --disabled-fill-color: #666;\n",
              "  }\n",
              "\n",
              "  .colab-df-quickchart {\n",
              "    background-color: var(--bg-color);\n",
              "    border: none;\n",
              "    border-radius: 50%;\n",
              "    cursor: pointer;\n",
              "    display: none;\n",
              "    fill: var(--fill-color);\n",
              "    height: 32px;\n",
              "    padding: 0;\n",
              "    width: 32px;\n",
              "  }\n",
              "\n",
              "  .colab-df-quickchart:hover {\n",
              "    background-color: var(--hover-bg-color);\n",
              "    box-shadow: 0 1px 2px rgba(60, 64, 67, 0.3), 0 1px 3px 1px rgba(60, 64, 67, 0.15);\n",
              "    fill: var(--button-hover-fill-color);\n",
              "  }\n",
              "\n",
              "  .colab-df-quickchart-complete:disabled,\n",
              "  .colab-df-quickchart-complete:disabled:hover {\n",
              "    background-color: var(--disabled-bg-color);\n",
              "    fill: var(--disabled-fill-color);\n",
              "    box-shadow: none;\n",
              "  }\n",
              "\n",
              "  .colab-df-spinner {\n",
              "    border: 2px solid var(--fill-color);\n",
              "    border-color: transparent;\n",
              "    border-bottom-color: var(--fill-color);\n",
              "    animation:\n",
              "      spin 1s steps(1) infinite;\n",
              "  }\n",
              "\n",
              "  @keyframes spin {\n",
              "    0% {\n",
              "      border-color: transparent;\n",
              "      border-bottom-color: var(--fill-color);\n",
              "      border-left-color: var(--fill-color);\n",
              "    }\n",
              "    20% {\n",
              "      border-color: transparent;\n",
              "      border-left-color: var(--fill-color);\n",
              "      border-top-color: var(--fill-color);\n",
              "    }\n",
              "    30% {\n",
              "      border-color: transparent;\n",
              "      border-left-color: var(--fill-color);\n",
              "      border-top-color: var(--fill-color);\n",
              "      border-right-color: var(--fill-color);\n",
              "    }\n",
              "    40% {\n",
              "      border-color: transparent;\n",
              "      border-right-color: var(--fill-color);\n",
              "      border-top-color: var(--fill-color);\n",
              "    }\n",
              "    60% {\n",
              "      border-color: transparent;\n",
              "      border-right-color: var(--fill-color);\n",
              "    }\n",
              "    80% {\n",
              "      border-color: transparent;\n",
              "      border-right-color: var(--fill-color);\n",
              "      border-bottom-color: var(--fill-color);\n",
              "    }\n",
              "    90% {\n",
              "      border-color: transparent;\n",
              "      border-bottom-color: var(--fill-color);\n",
              "    }\n",
              "  }\n",
              "</style>\n",
              "\n",
              "  <script>\n",
              "    async function quickchart(key) {\n",
              "      const quickchartButtonEl =\n",
              "        document.querySelector('#' + key + ' button');\n",
              "      quickchartButtonEl.disabled = true;  // To prevent multiple clicks.\n",
              "      quickchartButtonEl.classList.add('colab-df-spinner');\n",
              "      try {\n",
              "        const charts = await google.colab.kernel.invokeFunction(\n",
              "            'suggestCharts', [key], {});\n",
              "      } catch (error) {\n",
              "        console.error('Error during call to suggestCharts:', error);\n",
              "      }\n",
              "      quickchartButtonEl.classList.remove('colab-df-spinner');\n",
              "      quickchartButtonEl.classList.add('colab-df-quickchart-complete');\n",
              "    }\n",
              "    (() => {\n",
              "      let quickchartButtonEl =\n",
              "        document.querySelector('#df-ff8f143f-0c22-4e9f-bd64-0d4c5b5b07d8 button');\n",
              "      quickchartButtonEl.style.display =\n",
              "        google.colab.kernel.accessAllowed ? 'block' : 'none';\n",
              "    })();\n",
              "  </script>\n",
              "</div>\n",
              "    </div>\n",
              "  </div>\n"
            ],
            "application/vnd.google.colaboratory.intrinsic+json": {
              "type": "dataframe",
              "variable_name": "HV_data"
            }
          },
          "metadata": {},
          "execution_count": 10
        }
      ]
    },
    {
      "cell_type": "markdown",
      "metadata": {
        "id": "yck1rbrVKC8J"
      },
      "source": [
        "# Split train, validation and test data"
      ]
    },
    {
      "cell_type": "code",
      "execution_count": null,
      "metadata": {
        "id": "pkmWgAZpvOSO"
      },
      "outputs": [],
      "source": [
        "# def rolling_window_transform(data, in_sample_size, out_of_sample_size):\n",
        "#   total_size = in_sample_size + out_of_sample_size\n",
        "#   in_sample = []\n",
        "#   out_of_sample = []\n",
        "\n",
        "#   for start in range(len(data) - total_size + 1):\n",
        "#     in_sample.append(data.iloc[start : start + in_sample_size])\n",
        "#     out_of_sample.append(data.iloc[start + in_sample_size : start + total_size])\n",
        "\n",
        "#   return np.array(in_sample), np.array(out_of_sample)\n",
        "\n",
        "# in_sample_size = 100\n",
        "# out_of_sample_size = 5\n",
        "\n",
        "# train_in_sample, train_out_of_sample = rolling_window_transform(train_data, in_sample_size, out_of_sample_size)\n",
        "# val_in_sample, val_out_of_sample = rolling_window_transform(val_data, in_sample_size, out_of_sample_size)\n",
        "# test_in_sample, test_out_of_sample = rolling_window_transform(test_data, in_sample_size, out_of_sample_size)"
      ]
    },
    {
      "cell_type": "code",
      "execution_count": null,
      "metadata": {
        "id": "YEZkofgKFEBV"
      },
      "outputs": [],
      "source": [
        "# train_end = datetime(2020, 6, 30)\n",
        "# test_start = datetime(2020, 10, 1)"
      ]
    },
    {
      "cell_type": "code",
      "execution_count": null,
      "metadata": {
        "id": "HOtj9YjcprPF"
      },
      "outputs": [],
      "source": [
        "def split_data(data, target, train_end =datetime(2022, 5, 30), test_start=datetime(2022, 5, 31), test_size=0.1):\n",
        "  test_data = data.loc[test_start:]\n",
        "\n",
        "  train_val = data.loc[:train_end]\n",
        "  train_data, val_data = train_test_split(train_val, test_size=test_size, shuffle=False)\n",
        "\n",
        "  X_train = train_data.drop(columns=[target])\n",
        "  y_train = train_data[target]\n",
        "\n",
        "  X_val = val_data.drop(columns=[target])\n",
        "  y_val = val_data[target]\n",
        "\n",
        "  X_test = test_data.drop(columns=[target])\n",
        "  y_test = test_data[target]\n",
        "\n",
        "  return np.array(X_train), np.array(y_train), np.array(X_val), np.array(y_val), np.array(X_test), np.array(y_test)"
      ]
    },
    {
      "cell_type": "markdown",
      "metadata": {
        "id": "-HpXKIPGyWLh"
      },
      "source": [
        "# Model"
      ]
    },
    {
      "cell_type": "code",
      "execution_count": null,
      "metadata": {
        "id": "aGvL2RUxqi0U"
      },
      "outputs": [],
      "source": [
        "def calculate_mape(actual, predicted):\n",
        "  actual, predicted = np.array(actual), np.array(predicted)\n",
        "  return np.mean(np.abs((actual - predicted) / actual)) * 100"
      ]
    },
    {
      "cell_type": "markdown",
      "metadata": {
        "id": "FICVtfBF2PKI"
      },
      "source": [
        "## YZV"
      ]
    },
    {
      "cell_type": "code",
      "execution_count": null,
      "metadata": {
        "id": "vZPz8Xs02P-0"
      },
      "outputs": [],
      "source": [
        "HV_X_train, HV_y_train, HV_X_val, HV_y_val, HV_X_test, HV_y_test = split_data(HV_data, 'YZV')"
      ]
    },
    {
      "cell_type": "code",
      "execution_count": null,
      "metadata": {
        "id": "M3Rt6bg9yX7K"
      },
      "outputs": [],
      "source": [
        "def esn_model(params, X_train, y_train, X_val):\n",
        "  n_reservoir, spectral_radius, sparsity = int(params[0]), params[1], params[2]\n",
        "  n_inputs = X_train.shape[1]\n",
        "  n_outputs = 1\n",
        "\n",
        "  esn = ESN(n_inputs=n_inputs, n_reservoir=n_reservoir, n_outputs=n_outputs, spectral_radius=spectral_radius, sparsity=sparsity)\n",
        "  esn.fit(X_train, y_train)\n",
        "\n",
        "  # Predict on validation data (for validation performance evaluation)\n",
        "  pred_val = esn.predict(X_val)\n",
        "\n",
        "  return pred_val"
      ]
    },
    {
      "cell_type": "code",
      "execution_count": null,
      "metadata": {
        "id": "0_iM1wKfLtUM"
      },
      "outputs": [],
      "source": [
        "def pso_objective(params):\n",
        "  val_pred = esn_model(params, HV_X_train, HV_y_train, HV_X_val)\n",
        "  loss = mean_squared_error(HV_y_val, val_pred)\n",
        "\n",
        "  return loss"
      ]
    },
    {
      "cell_type": "code",
      "execution_count": null,
      "metadata": {
        "id": "OA6HjolRLtZK"
      },
      "outputs": [],
      "source": [
        "# Initialize bounds for the parameters\n",
        "lb = [10, 0.1, 0.01]  # Lower bounds for n_reservoir, spectral_radius, sparsity\n",
        "ub = [500, 1.0, 0.5]  # Upper bounds for n_reservoir, spectral_radius, sparsity\n",
        "swarmsize = 50\n",
        "maxiter = 100"
      ]
    },
    {
      "cell_type": "code",
      "execution_count": null,
      "metadata": {
        "colab": {
          "base_uri": "https://localhost:8080/"
        },
        "id": "IKQyHAYwLw_Z",
        "outputId": "d145727b-afd4-46af-842e-14d65d12ce6d"
      },
      "outputs": [
        {
          "output_type": "stream",
          "name": "stdout",
          "text": [
            "Stopping search: maximum iterations reached --> 100\n"
          ]
        }
      ],
      "source": [
        "optimal_params, _ = pso(pso_objective, lb, ub, swarmsize=swarmsize, maxiter=maxiter)"
      ]
    },
    {
      "cell_type": "code",
      "source": [
        "optimal_params"
      ],
      "metadata": {
        "colab": {
          "base_uri": "https://localhost:8080/"
        },
        "id": "5B0qwxyHD_MZ",
        "outputId": "232e1cd0-b42e-4453-d0be-1b61201d1070"
      },
      "execution_count": null,
      "outputs": [
        {
          "output_type": "execute_result",
          "data": {
            "text/plain": [
              "array([10.        ,  0.60569942,  0.49419789])"
            ]
          },
          "metadata": {},
          "execution_count": 20
        }
      ]
    },
    {
      "cell_type": "code",
      "source": [
        "# optimal_params = [4.83654438e+02, 2.14721646e-01, 4.11926862e-01]"
      ],
      "metadata": {
        "id": "6lNhpXusGjJ_"
      },
      "execution_count": null,
      "outputs": []
    },
    {
      "cell_type": "code",
      "execution_count": null,
      "metadata": {
        "id": "4HJT31OJz6hV"
      },
      "outputs": [],
      "source": [
        "# Train and predict with optimal parameters\n",
        "HV_test_predictions = esn_model(optimal_params, HV_X_train, HV_y_train, HV_X_test)"
      ]
    },
    {
      "cell_type": "code",
      "execution_count": null,
      "metadata": {
        "colab": {
          "base_uri": "https://localhost:8080/"
        },
        "id": "v2VCaQRb1lSt",
        "outputId": "1970a630-8c48-4d87-da7e-b5e879722f22"
      },
      "outputs": [
        {
          "output_type": "execute_result",
          "data": {
            "text/plain": [
              "(567, 1)"
            ]
          },
          "metadata": {},
          "execution_count": 23
        }
      ],
      "source": [
        "HV_test_predictions.shape"
      ]
    },
    {
      "cell_type": "code",
      "execution_count": null,
      "metadata": {
        "colab": {
          "base_uri": "https://localhost:8080/"
        },
        "id": "WS96VoqO1pPx",
        "outputId": "1de2aa58-3e80-4c5b-fadb-51ac520f7b64"
      },
      "outputs": [
        {
          "output_type": "execute_result",
          "data": {
            "text/plain": [
              "(567,)"
            ]
          },
          "metadata": {},
          "execution_count": 24
        }
      ],
      "source": [
        "HV_y_test.shape"
      ]
    },
    {
      "cell_type": "code",
      "execution_count": null,
      "metadata": {
        "colab": {
          "base_uri": "https://localhost:8080/"
        },
        "id": "9ukbcwKO0oaO",
        "outputId": "1eee8196-90b6-48ab-9ed0-f1935b8c3e36"
      },
      "outputs": [
        {
          "output_type": "stream",
          "name": "stdout",
          "text": [
            "MSE: 0.030475149153430234\n",
            "RMSE: 0.17457132970058467\n",
            "MAE: 0.06479381503444012\n",
            "MAPE: 58666.19030238714%\n"
          ]
        }
      ],
      "source": [
        "mse = mean_squared_error(HV_y_test, HV_test_predictions)\n",
        "print(f'MSE: {mse}')\n",
        "\n",
        "rmse = np.sqrt(mse)\n",
        "print(f'RMSE: {rmse}')\n",
        "\n",
        "mae = mean_absolute_error(HV_y_test, HV_test_predictions)\n",
        "print(f'MAE: {mae}')\n",
        "\n",
        "mape = calculate_mape(HV_y_test, HV_test_predictions)\n",
        "print(f'MAPE: {mape}%')"
      ]
    },
    {
      "cell_type": "code",
      "execution_count": null,
      "metadata": {
        "id": "Uppf1LX2G0aW"
      },
      "outputs": [],
      "source": [
        "# path_1 = '/content/drive/MyDrive/Volatility/New_data_2000_2024/New_predictions/YZV/'\n",
        "\n",
        "# df_pred = pd.DataFrame(HV_test_predictions, columns=['esn_pred'])\n",
        "# filename = 'ESN_pred.csv'\n",
        "# df_pred.to_csv(path_1 + filename)"
      ]
    },
    {
      "cell_type": "code",
      "execution_count": null,
      "metadata": {
        "id": "iHs829OVy35t"
      },
      "outputs": [],
      "source": []
    }
  ],
  "metadata": {
    "colab": {
      "collapsed_sections": [
        "wYfRQJFzrpuV",
        "G0ia_d2orryZ",
        "M1V9DnTYrtuK",
        "P97Ar3mdsDZD",
        "gTjAxNWLsFeN",
        "V7tMYviHsMDN"
      ],
      "provenance": []
    },
    "kernelspec": {
      "display_name": "Python 3",
      "name": "python3"
    },
    "language_info": {
      "name": "python"
    }
  },
  "nbformat": 4,
  "nbformat_minor": 0
}